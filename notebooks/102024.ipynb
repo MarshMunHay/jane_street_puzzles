{
 "cells": [
  {
   "cell_type": "markdown",
   "id": "fde195dd-bf1d-4b13-8eab-c86b53bc9919",
   "metadata": {},
   "source": [
    "# Knights Move 6"
   ]
  },
  {
   "cell_type": "code",
   "execution_count": 1,
   "id": "c2139a05-77dd-405c-a872-46c918b5f636",
   "metadata": {},
   "outputs": [
    {
     "name": "stdout",
     "output_type": "stream",
     "text": [
      "Collecting networkx\n",
      "  Downloading networkx-3.4.2-py3-none-any.whl (1.7 MB)\n",
      "\u001b[K     |████████████████████████████████| 1.7 MB 7.1 MB/s eta 0:00:01\n",
      "\u001b[?25hInstalling collected packages: networkx\n",
      "Successfully installed networkx-3.4.2\n",
      "\u001b[33mWARNING: Running pip as the 'root' user can result in broken permissions and conflicting behaviour with the system package manager. It is recommended to use a virtual environment instead: https://pip.pypa.io/warnings/venv\u001b[0m\n",
      "\u001b[33mWARNING: You are using pip version 21.2.4; however, version 25.0 is available.\n",
      "You should consider upgrading via the '/usr/local/bin/python -m pip install --upgrade pip' command.\u001b[0m\n",
      "Note: you may need to restart the kernel to use updated packages.\n"
     ]
    }
   ],
   "source": [
    "pip install networkx"
   ]
  },
  {
   "cell_type": "code",
   "execution_count": 2,
   "id": "1ddb5c17-4526-42f7-bb6c-8d61dc2bab22",
   "metadata": {},
   "outputs": [],
   "source": [
    "import numpy as np\n",
    "import networkx as nx"
   ]
  },
  {
   "cell_type": "markdown",
   "id": "b9790f02-0240-4e95-8992-e3bb4b648bb3",
   "metadata": {},
   "source": [
    "Pick distinct positive integers A, B, and C, and place them in the grid above. Your goal is to create two corner-to-corner trips — one from a1 to f6, and the other from a6 to f1 — both of which score exactly 2024 points.\n",
    "\n",
    "A “trip” consists of knight’s moves. Squares may not be revisited within a trip.\n",
    "\n",
    "The “score” for a trip is calculated as follows:\n",
    "\n",
    "Start with A points.\n",
    "Every time you make a move:\n",
    "\n",
    "* if your move is between two different integers, multiply your score by the value you are moving to;\n",
    "\n",
    "* otherwise, increment your score by the value you are moving to.\n",
    "\n",
    "Can you find positive integers A, B, and C, as well as a pair of trips, that satisfy the criteria above? How low can you get A + B + C?\n",
    "\n",
    "Please format your entry by concatenating your values for A, B, and C, followed by your a1-to-f6 tour, followed by your a6-to-f1 tour. For example, “1,2,253,a1,b3,c5,d3,f4,d5,f6,a6,c5,a4,b2,c4,d2,f1” would be a properly formatted entry.\n",
    "\n",
    "To qualify for the leaderboard your value for A + B + C must be less than 50.\n",
    "\n",
    "How low can you get A + B + C?\n",
    "\n",
    "* BOARD: 1,2,253,\n",
    "* TRIP 1: a1,b3,c5,d3,f4,d5,f6,\n",
    "* TRIP 2: a6,c5,a4,b2,c4,d2,f1\n",
    "\n",
    "2024 have prime factors of 1, 2, 11, 23, "
   ]
  },
  {
   "cell_type": "markdown",
   "id": "56ebd76e-0928-40c1-aa8a-242547d2b082",
   "metadata": {},
   "source": [
    "# Constraints\n",
    "\n",
    "1. Squares are visited once at most within a trip\n",
    "2. Start with A points\n",
    "3. Every time you make a move:\n",
    "\n",
    "* if your move is between two different integers, multiply your score by the value you are moving to;\n",
    "\n",
    "* otherwise, increment your score by the value you are moving to.\n",
    "\n",
    "4. A + B + C < 50\n",
    "5. 1,2,253 works"
   ]
  },
  {
   "cell_type": "markdown",
   "id": "75f24d70-8c28-40d0-bcc8-d25d962e1a5a",
   "metadata": {},
   "source": [
    "# Thoughts\n",
    "\n",
    "Creating a path to 2024 using any 3 digits?\n",
    "\n",
    "Is that possible?\n",
    "\n",
    "A grid with Knight's move creates a graph\n",
    "\n",
    "Branch and Bound - Google OR Tools - Routing?\n",
    "\n",
    "https://en.wikipedia.org/wiki/Subset_sum_problem\n",
    "\n",
    "Simulated Annealing where energy starts at 2024\n",
    "with conditions that it begins and terminates at given locations?\n",
    "\n",
    "a1 -> b3 -> c5 -> d3 -> f4 -> d5 -> f6 \n",
    "1 -> (1+1) -> \n",
    "2 * (1+1) -> 2 + (2 * (1+1)) -> \n",
    "253 * (2 + (2 * (1+1)) -> 253 + (253 * (2 + (2 * (1+1))) -> \n",
    "253 + 253 + (253 * (2 + (2 * (1+1)))\n",
    "1 -> 2 ->"
   ]
  },
  {
   "cell_type": "markdown",
   "id": "20ffa678-4367-4fa6-b5d7-0bbda49e6784",
   "metadata": {},
   "source": [
    "# Create Network"
   ]
  },
  {
   "cell_type": "code",
   "execution_count": 3,
   "id": "36ef66dd-31ad-4094-9619-ef57692e190a",
   "metadata": {},
   "outputs": [
    {
     "name": "stdout",
     "output_type": "stream",
     "text": [
      "{'a6': ['c5', 'b4'], 'a5': ['c4', 'c6', 'b3'], 'a4': ['c3', 'c5', 'b2', 'b6'], 'a3': ['c2', 'c4', 'b1', 'b5'], 'a2': ['c1', 'c3', 'b4'], 'a1': ['c2', 'b3'], 'b6': ['d5', 'c4', 'a4'], 'b5': ['d4', 'd6', 'c3', 'a3'], 'b4': ['d3', 'd5', 'c2', 'c6', 'a2', 'a6'], 'b3': ['d2', 'd4', 'c1', 'c5', 'a1', 'a5'], 'b2': ['d1', 'd3', 'c4', 'a4'], 'b1': ['d2', 'c3', 'a3'], 'c6': ['e5', 'a5', 'd4', 'b4'], 'c5': ['e4', 'e6', 'a4', 'a6', 'd3', 'b3'], 'c4': ['e3', 'e5', 'a3', 'a5', 'd2', 'd6', 'b2', 'b6'], 'c3': ['e2', 'e4', 'a2', 'a4', 'd1', 'd5', 'b1', 'b5'], 'c2': ['e1', 'e3', 'a1', 'a3', 'd4', 'b4'], 'c1': ['e2', 'a2', 'd3', 'b3'], 'd6': ['f5', 'b5', 'e4', 'c4'], 'd5': ['f4', 'f6', 'b4', 'b6', 'e3', 'c3'], 'd4': ['f3', 'f5', 'b3', 'b5', 'e2', 'e6', 'c2', 'c6'], 'd3': ['f2', 'f4', 'b2', 'b4', 'e1', 'e5', 'c1', 'c5'], 'd2': ['f1', 'f3', 'b1', 'b3', 'e4', 'c4'], 'd1': ['f2', 'b2', 'e3', 'c3'], 'e6': ['c5', 'f4', 'd4'], 'e5': ['c4', 'c6', 'f3', 'd3'], 'e4': ['c3', 'c5', 'f2', 'f6', 'd2', 'd6'], 'e3': ['c2', 'c4', 'f1', 'f5', 'd1', 'd5'], 'e2': ['c1', 'c3', 'f4', 'd4'], 'e1': ['c2', 'f3', 'd3'], 'f6': ['d5', 'e4'], 'f5': ['d4', 'd6', 'e3'], 'f4': ['d3', 'd5', 'e2', 'e6'], 'f3': ['d2', 'd4', 'e1', 'e5'], 'f2': ['d1', 'd3', 'e4'], 'f1': ['d2', 'e3']}\n"
     ]
    }
   ],
   "source": [
    "'''\n",
    "for a 6x6 matrix where the columns are labeled as A, B, C, D, E, F and the rows are labeled as 1,2,3,4,5,6, \n",
    "\n",
    "create a graph of reachable nodes based on the movements of a knight in chess. A1 is the bottom left corner of the matrix\n",
    "\n",
    "please represent the graph in python\n",
    "'''\n",
    "from collections import defaultdict\n",
    "\n",
    "# Define the knight's moves\n",
    "knight_moves = [\n",
    "    (2, 1), (2, -1), (-2, 1), (-2, -1),\n",
    "    (1, 2), (1, -2), (-1, 2), (-1, -2)\n",
    "]\n",
    "\n",
    "# Create the adjacency list for the 6x6 board\n",
    "def get_knight_moves(x, y):\n",
    "    moves = []\n",
    "    for dx, dy in knight_moves:\n",
    "        new_x = x + dx\n",
    "        new_y = y + dy\n",
    "        if 1 <= new_x <= 6 and 1 <= new_y <= 6:\n",
    "            moves.append((new_x, new_y))\n",
    "    return moves\n",
    "\n",
    "# Create the board representation\n",
    "board = {}\n",
    "for row in range(1, 7):\n",
    "    for col in range(1, 7):\n",
    "        board[(row, col)] = get_knight_moves(row, col)\n",
    "\n",
    "# Print the adjacency list\n",
    "\n",
    "# Map \n",
    "l = [1, 2, 3, 4, 5, 6]\n",
    "rows = {i: 7 - i for i in l[::-1]}\n",
    "cols = {6-i: k  for i, k in enumerate(['a','b','c','d','e','f'][::-1])}\n",
    "f = lambda x: cols[x[0]] + str(rows[x[1]])\n",
    "\n",
    "remapped_board = dict()\n",
    "for position, moves in board.items():\n",
    "    remapped_position = f(position)\n",
    "    remapped_moves = list(map(f, moves))\n",
    "    remapped_board[remapped_position] = remapped_moves                          \n",
    "    \n",
    "print(remapped_board)"
   ]
  },
  {
   "cell_type": "markdown",
   "id": "dc961794-68c6-4000-9a01-c93401dfcd4e",
   "metadata": {},
   "source": [
    "# Util Mapping"
   ]
  },
  {
   "cell_type": "code",
   "execution_count": 4,
   "id": "5a0640a8-5084-45bb-9bd0-5d81fcdd073d",
   "metadata": {},
   "outputs": [],
   "source": [
    "group_to_value = {\n",
    "    'a': 1,\n",
    "    'b': 2,\n",
    "    'c': 253\n",
    "}\n",
    "\n",
    "group_to_node = {\n",
    "    'a': ['a6','a5','a4','a3','a2','a1',\n",
    "          'b4','b3','b2','b1',\n",
    "          'c2','c1'\n",
    "         ],\n",
    "    'b': ['b6','b5',\n",
    "          'c6','c5','c4','c3',\n",
    "          'd4','d3','d2','d1',\n",
    "          'e2','e1'\n",
    "         ],\n",
    "    'c': ['d6','d5',\n",
    "          'e6','e5','e4','e3',\n",
    "          'f6','f5','f4','f3','f2','f1'\n",
    "         ]\n",
    "}\n",
    "\n",
    "node_to_group = dict()\n",
    "\n",
    "for k, v in group_to_node.items():\n",
    "    for node in v:\n",
    "        node_to_group[node] = k\n",
    "        \n",
    "        \n",
    "        "
   ]
  },
  {
   "cell_type": "markdown",
   "id": "0e9477f8-141f-451e-9459-3dfa0340ac0f",
   "metadata": {},
   "source": [
    "# Search"
   ]
  },
  {
   "cell_type": "code",
   "execution_count": 5,
   "id": "af699bf3-a440-475f-8426-092a7783d0ad",
   "metadata": {},
   "outputs": [],
   "source": [
    "g = nx.Graph(remapped_board)"
   ]
  },
  {
   "cell_type": "code",
   "execution_count": 6,
   "id": "089f66a4-6de0-4009-99c0-735f040fcd7d",
   "metadata": {},
   "outputs": [],
   "source": [
    "from simanneal import Annealer\n",
    "import random\n",
    "from collections import Counter\n",
    "\n",
    "# a + b + c <= 50\n",
    "# MIN: 1 + 2 + 3 = 6\n",
    "# MAX: 17+15+18 = 50\n",
    "\n",
    "# How triplets with distict integers added up to fifty or less?\n",
    "\n",
    "group_to_value = {\n",
    "    'a': 11,\n",
    "    'b': 5,\n",
    "    'c': 2\n",
    "}\n",
    "\n",
    "group_to_node = {\n",
    "    'a': ['a6','a5','a4','a3','a2','a1',\n",
    "          'b4','b3','b2','b1',\n",
    "          'c2','c1'\n",
    "         ],\n",
    "    'b': ['b6','b5',\n",
    "          'c6','c5','c4','c3',\n",
    "          'd4','d3','d2','d1',\n",
    "          'e2','e1'\n",
    "         ],\n",
    "    'c': ['d6','d5',\n",
    "          'e6','e5','e4','e3',\n",
    "          'f6','f5','f4','f3','f2','f1'\n",
    "         ]\n",
    "}\n",
    "\n",
    "node_to_group = dict()\n",
    "\n",
    "for k, v in group_to_node.items():\n",
    "    for node in v:\n",
    "        node_to_group[node] = k\n",
    "        \n",
    "        \n",
    "\n",
    "\n",
    "class KnightsMoveProblem(Annealer):\n",
    "    def __init__(self, state, rewards):\n",
    "        super(KnightsMoveProblem, self).__init__(state)  # important!\n",
    "        self.G = nx.Graph(remapped_board)\n",
    "        self.rewards = rewards\n",
    "    \n",
    "    def add_node(self):\n",
    "        '''\n",
    "        It is not possible to add just one node to a path.\n",
    "\n",
    "        It has to be done in pairs due to the knights move condition\n",
    "        '''\n",
    "        G = self.G\n",
    "        path = self.state\n",
    "        initial_energy = self.energy()\n",
    "        # Select two nodes that are 1 index apart\n",
    "        n = len(path)\n",
    "        choice = np.random.randint(0, n-1)\n",
    "        start = path[choice]\n",
    "        end = path[choice+1]\n",
    "        G.remove_edge(start, end)\n",
    "        sub_paths = nx.all_shortest_paths(G, start, end)\n",
    "        G.add_edge(start, end)\n",
    "        beginning = path[:choice]\n",
    "        ending = path[choice+2:]\n",
    "        for sp in sub_paths:\n",
    "            res = all(map(lambda x: (x not in beginning) & (x not in ending), sp))\n",
    "            new_path = beginning + sp + ending\n",
    "            assert (sum(Counter(path).values()) == len(Counter(path).keys()))\n",
    "            if (res) and (len(new_path) >= n):\n",
    "                self.state = new_path\n",
    "                return self.energy() - initial_energy\n",
    "\n",
    "        \n",
    "        return int(self.energy() - initial_energy)\n",
    "\n",
    "    \n",
    "    def remove_node(self):\n",
    "        G = self.G\n",
    "        path = self.state\n",
    "        initial_energy = self.energy()\n",
    "        n = len(path)\n",
    "        if n == 5:\n",
    "            self.state = path\n",
    "            return int(self.energy() - initial_energy)\n",
    "        \n",
    "        # Select two nodes that are 3 indicies apart\n",
    "        choices = [i for i in range(0, n-3)]\n",
    "        for i in range(100):\n",
    "            choice = np.random.choice(choices, 1)[0]\n",
    "            start = path[choice]\n",
    "            end = path[choice+3]\n",
    "            sub_paths = nx.all_shortest_paths(G, start, end)\n",
    "            # Find the shortest path\n",
    "            for sp in sub_paths:\n",
    "                res = all(map(lambda x: (x not in path[:choice]) & (x not in path[choice+3+1:]), sp))\n",
    "                assert (sum(Counter(path).values()) == len(Counter(path).keys()))\n",
    "                new_path = path[:choice] + sp + path[choice+3+1:] \n",
    "                if (res) & (len(new_path) <= len(path)):\n",
    "                    self.state = new_path\n",
    "                    return int(self.energy() - initial_energy)\n",
    "            choices.remove(choice)\n",
    "            \n",
    "        # self.state = new_path\n",
    "        # print(self.energy() - initial_energy)\n",
    "        return int(self.energy() - initial_energy)\n",
    "        \n",
    "    def move(self):\n",
    "        \"\"\"\n",
    "        Make the state changes\n",
    "\n",
    "        1. Add Nodes\n",
    "        2. Remove Nodes\n",
    "        \"\"\"\n",
    "        initial_energy = self.energy()\n",
    "        direction = random.random()\n",
    "        if direction > 0.5:\n",
    "            e = self.add_node()\n",
    "            return e\n",
    "        else:\n",
    "            e = self.remove_node() \n",
    "            return e\n",
    "\n",
    "    def eval_path(self, path):\n",
    "        score = 0\n",
    "        previous_node = None\n",
    "        for node in path:\n",
    "            if previous_node:\n",
    "                previous_group = node_to_group[previous_node]\n",
    "                current_group = node_to_group[node]\n",
    "                prev_score = score\n",
    "                score = score * self.rewards[node_to_group[node]] if current_group != previous_group else score + self.rewards[node_to_group[node]]\n",
    "                previous_node = node\n",
    "            else:\n",
    "                prev_score = score\n",
    "                score += self.rewards[node_to_group[node]]\n",
    "                previous_node = node\n",
    "        return score\n",
    "    \n",
    "    def energy(self):\n",
    "        score = self.eval_path(self.state)\n",
    "        energy = np.abs(score - 2024)\n",
    "        return int(energy)"
   ]
  },
  {
   "cell_type": "markdown",
   "id": "af55298b-872f-4b5c-8715-eb8cead82a68",
   "metadata": {},
   "source": [
    "# Optimize Lengths"
   ]
  },
  {
   "cell_type": "code",
   "execution_count": 7,
   "id": "9d535a93-d4d2-4162-b09d-0a8b615a605e",
   "metadata": {
    "scrolled": true
   },
   "outputs": [
    {
     "name": "stderr",
     "output_type": "stream",
     "text": [
      " Temperature        Energy    Accept   Improve     Elapsed   Remaining\n",
      "     2.50000         10.00    72.40%     0.40%     0:00:03     0:00:00"
     ]
    }
   ],
   "source": [
    "# You can adjust the key map to find a solution\n",
    "# or write some code so try different permutations of factors\n",
    "key_map = {'a': 1, 'b': 3, 'c': 2}\n",
    "\n",
    "min_trip_len = 100\n",
    "trip_a = []\n",
    "e = 10000000\n",
    "\n",
    "for i in range(10):\n",
    "    seed_path = nx.all_simple_paths(g, 'a1', 'f6')\n",
    "    tsp = KnightsMoveProblem(next(seed_path), key_map)\n",
    "    t_a, t_e = tsp.anneal()\n",
    "    if (t_e == 0) and (len(t_a) < min_trip_len):\n",
    "        trip_a = t_a\n",
    "        e = t_e   \n",
    "        min_trip_len = len(t_a)\n",
    "        break"
   ]
  },
  {
   "cell_type": "code",
   "execution_count": 8,
   "id": "4ee8e09b-d49e-48e0-84e7-7509776464bb",
   "metadata": {
    "scrolled": true
   },
   "outputs": [
    {
     "name": "stderr",
     "output_type": "stream",
     "text": [
      " Temperature        Energy    Accept   Improve     Elapsed   Remaining\n",
      "     2.50000          2.00    46.20%     0.00%     0:00:03     0:00:00"
     ]
    }
   ],
   "source": [
    "min_trip_len = 100\n",
    "trip_b = []\n",
    "e = 10000000\n",
    "\n",
    "for i in range(10):\n",
    "    seed_path = nx.all_simple_paths(g, 'a6', 'f1')\n",
    "    tsp = KnightsMoveProblem(next(seed_path), key_map)\n",
    "    t_b, t_e = tsp.anneal()\n",
    "    if (t_e == 0) and (len(t_b) < min_trip_len):\n",
    "        trip_b = t_b\n",
    "        e = t_e   \n",
    "        min_trip_len = len(t_b)\n",
    "        break"
   ]
  },
  {
   "cell_type": "code",
   "execution_count": 9,
   "id": "830b011e-a757-49e2-8caf-bbf388ead81d",
   "metadata": {},
   "outputs": [
    {
     "name": "stdout",
     "output_type": "stream",
     "text": [
      "21\n",
      "25\n"
     ]
    }
   ],
   "source": [
    "print(len(trip_a))\n",
    "print(len(trip_b))"
   ]
  },
  {
   "cell_type": "code",
   "execution_count": 10,
   "id": "defeb74b-5c47-4b11-9098-63a3c7e60a8d",
   "metadata": {},
   "outputs": [
    {
     "name": "stdout",
     "output_type": "stream",
     "text": [
      "['a1', 'b3', 'd4', 'c6', 'e5', 'c4', 'd6', 'e4', 'c5', 'd3', 'b4', 'a2', 'c1', 'e2', 'c3', 'b1', 'a3', 'c2', 'e3', 'd5', 'f6']\n",
      "['a6', 'c5', 'b3', 'a1', 'c2', 'e1', 'd3', 'b4', 'c6', 'e5', 'f3', 'd2', 'c4', 'a3', 'b1', 'c3', 'e2', 'f4', 'd5', 'f6', 'e4', 'd6', 'f5', 'e3', 'f1']\n"
     ]
    }
   ],
   "source": [
    "print(trip_a)\n",
    "print(trip_b)"
   ]
  },
  {
   "cell_type": "code",
   "execution_count": 11,
   "id": "4da09ee5-b25a-4eba-b25e-a3f288cb433c",
   "metadata": {},
   "outputs": [],
   "source": [
    "def eval_path(path, val_map):\n",
    "    score = 0\n",
    "    previous_node = None\n",
    "    for node in path:\n",
    "        if previous_node:\n",
    "            previous_group = node_to_group[previous_node]\n",
    "            current_group = node_to_group[node]\n",
    "            prev_score = score\n",
    "            score = score * val_map[node_to_group[node]] if current_group != previous_group else score + val_map[node_to_group[node]]\n",
    "            print(f'{previous_node} -> {node} {prev_score} -> {score} {previous_group} -> {current_group}')\n",
    "            previous_node = node\n",
    "        else:\n",
    "            prev_score = score\n",
    "            \n",
    "            score += val_map[node_to_group[node]]\n",
    "            print(f'{previous_node} -> {node} {prev_score} -> {score}')\n",
    "            previous_node = node\n",
    "            \n",
    "    return score, "
   ]
  },
  {
   "cell_type": "code",
   "execution_count": 12,
   "id": "d2efdc17-c9f0-46e7-855b-b19e3097fc21",
   "metadata": {},
   "outputs": [
    {
     "name": "stdout",
     "output_type": "stream",
     "text": [
      "None -> a1 0 -> 1\n",
      "a1 -> b3 1 -> 2 a -> a\n",
      "b3 -> a5 2 -> 3 a -> a\n",
      "a5 -> c4 3 -> 9 a -> b\n",
      "c4 -> e3 9 -> 18 b -> c\n",
      "e3 -> d1 18 -> 54 c -> b\n",
      "d1 -> f2 54 -> 108 b -> c\n",
      "f2 -> e4 108 -> 110 c -> c\n",
      "e4 -> c5 110 -> 330 c -> b\n",
      "c5 -> d3 330 -> 333 b -> b\n",
      "d3 -> b2 333 -> 333 b -> a\n",
      "b2 -> a4 333 -> 334 a -> a\n",
      "a4 -> c3 334 -> 1002 a -> b\n",
      "c3 -> e2 1002 -> 1005 b -> b\n",
      "e2 -> d4 1005 -> 1008 b -> b\n",
      "d4 -> c6 1008 -> 1011 b -> b\n",
      "c6 -> b4 1011 -> 1011 b -> a\n",
      "b4 -> d5 1011 -> 2022 a -> c\n",
      "d5 -> f6 2022 -> 2024 c -> c\n"
     ]
    },
    {
     "data": {
      "text/plain": [
       "(2024,)"
      ]
     },
     "execution_count": 12,
     "metadata": {},
     "output_type": "execute_result"
    }
   ],
   "source": [
    "key_map = {'a': 1, 'b': 3, 'c': 2}\n",
    "trip_a = ['a1', 'b3', 'a5', 'c4', 'e3', 'd1', 'f2', 'e4', 'c5', 'd3', 'b2', 'a4', 'c3', 'e2', 'd4', 'c6', 'b4', 'd5', 'f6']\n",
    "trip_b = ['a6', 'b4', 'a2', 'c3', 'b5', 'a3', 'c4', 'a5', 'b3', 'c5', 'a4', 'b2', 'd3', 'c1', 'e2', 'd4', 'c2', 'e3', 'f1']\n",
    "\n",
    "eval_path(trip_a, key_map)"
   ]
  },
  {
   "cell_type": "code",
   "execution_count": 13,
   "id": "8403d22c-3610-4e10-bcb9-f1d761d55fa6",
   "metadata": {},
   "outputs": [
    {
     "name": "stdout",
     "output_type": "stream",
     "text": [
      "None -> a6 0 -> 1\n",
      "a6 -> b4 1 -> 2 a -> a\n",
      "b4 -> a2 2 -> 3 a -> a\n",
      "a2 -> c3 3 -> 9 a -> b\n",
      "c3 -> b5 9 -> 12 b -> b\n",
      "b5 -> a3 12 -> 12 b -> a\n",
      "a3 -> c4 12 -> 36 a -> b\n",
      "c4 -> a5 36 -> 36 b -> a\n",
      "a5 -> b3 36 -> 37 a -> a\n",
      "b3 -> c5 37 -> 111 a -> b\n",
      "c5 -> a4 111 -> 111 b -> a\n",
      "a4 -> b2 111 -> 112 a -> a\n",
      "b2 -> d3 112 -> 336 a -> b\n",
      "d3 -> c1 336 -> 336 b -> a\n",
      "c1 -> e2 336 -> 1008 a -> b\n",
      "e2 -> d4 1008 -> 1011 b -> b\n",
      "d4 -> c2 1011 -> 1011 b -> a\n",
      "c2 -> e3 1011 -> 2022 a -> c\n",
      "e3 -> f1 2022 -> 2024 c -> c\n"
     ]
    },
    {
     "data": {
      "text/plain": [
       "(2024,)"
      ]
     },
     "execution_count": 13,
     "metadata": {},
     "output_type": "execute_result"
    }
   ],
   "source": [
    "eval_path(trip_b, key_map)\n"
   ]
  },
  {
   "cell_type": "markdown",
   "id": "f14c2a7d-7129-4d51-9974-fd25f3a19a6c",
   "metadata": {},
   "source": [
    "# Need to check Path Validity\n",
    "\n",
    "\n"
   ]
  },
  {
   "cell_type": "code",
   "execution_count": 14,
   "id": "6a38a083-91b1-40ca-a067-f4b5bd3a9a06",
   "metadata": {},
   "outputs": [],
   "source": [
    "from collections import Counter\n",
    "\n",
    "def accepts(g, path, trip_type='a'):\n",
    "    if trip_type == 'a':\n",
    "        cond = (path[0] == 'a1') & (path[-1] == 'f6') & (sum(Counter(path).values()) == len(Counter(path).keys()))\n",
    "    else:\n",
    "        cond = (path[0] == 'a6') & (path[-1] == 'f1') & (sum(Counter(path).values()) == len(Counter(path).keys()))\n",
    "    return cond & all([(path[i], path[i+1]) in g.edges() for i in range(len(path)-1)])\n",
    "\n",
    "def unique(trip):\n",
    "    return len(set(trip)) == len(trip)"
   ]
  },
  {
   "cell_type": "code",
   "execution_count": 15,
   "id": "03c34bcf-7a04-480b-9f7e-d8083acf8db5",
   "metadata": {},
   "outputs": [
    {
     "data": {
      "text/plain": [
       "True"
      ]
     },
     "execution_count": 15,
     "metadata": {},
     "output_type": "execute_result"
    }
   ],
   "source": [
    "accepts(nx.Graph(remapped_board), trip_a, trip_type='a')"
   ]
  },
  {
   "cell_type": "code",
   "execution_count": 16,
   "id": "b725c446-1317-4d57-b2b7-54c2d47a5636",
   "metadata": {},
   "outputs": [
    {
     "data": {
      "text/plain": [
       "True"
      ]
     },
     "execution_count": 16,
     "metadata": {},
     "output_type": "execute_result"
    }
   ],
   "source": [
    "unique(trip_a[1])"
   ]
  },
  {
   "cell_type": "code",
   "execution_count": 17,
   "id": "cc33dbd3-048c-4bf5-96cd-c97728c58f7d",
   "metadata": {},
   "outputs": [
    {
     "data": {
      "text/plain": [
       "True"
      ]
     },
     "execution_count": 17,
     "metadata": {},
     "output_type": "execute_result"
    }
   ],
   "source": [
    "accepts(nx.Graph(remapped_board), trip_b, trip_type='b')"
   ]
  },
  {
   "cell_type": "code",
   "execution_count": 18,
   "id": "0ae76cbd-fac3-4423-8ddb-ff3cae27a780",
   "metadata": {},
   "outputs": [
    {
     "data": {
      "text/plain": [
       "True"
      ]
     },
     "execution_count": 18,
     "metadata": {},
     "output_type": "execute_result"
    }
   ],
   "source": [
    "unique(trip_b)"
   ]
  },
  {
   "cell_type": "markdown",
   "id": "2abdcaea-2a2a-4fd7-9de9-5e7c367926a5",
   "metadata": {},
   "source": [
    "# Results"
   ]
  },
  {
   "cell_type": "code",
   "execution_count": 19,
   "id": "4a31fb5f-78cf-4dbd-a239-62046a1c0b82",
   "metadata": {},
   "outputs": [],
   "source": [
    "# VAL MAP ({'a': 42, 'b': 6, 'c': 1},)\n",
    "# Trip A ['a1', 'b3', 'c1', 'a2', 'b4', 'c2', 'a3', 'b1', 'c3', 'b5', 'd6', 'e4', 'f6']\n",
    "# Trip B ['a6', 'b4', 'a2', 'c1', 'b3', 'a1', 'c2', 'a3', 'b5', 'c3', 'd5', 'e3', 'f1']"
   ]
  },
  {
   "cell_type": "code",
   "execution_count": 20,
   "id": "da843562-0cd5-4f9f-9c06-f3a2e5ea9473",
   "metadata": {},
   "outputs": [],
   "source": [
    "# These are the optimal paths that I found and submitted\n",
    "# key_map = {'a': 1, 'b': 3, 'c': 2}\n",
    "# trip_a = ['a1', 'b3', 'a5', 'c4', 'e3', 'd1', 'f2', 'e4', 'c5', 'd3', 'b2', 'a4', 'c3', 'e2', 'd4', 'c6', 'b4', 'd5', 'f6']\n",
    "# trip_b = ['a6', 'b4', 'a2', 'c3', 'b5', 'a3', 'c4', 'a5', 'b3', 'c5', 'a4', 'b2', 'd3', 'c1', 'e2', 'd4', 'c2', 'e3', 'f1']\n",
    "\n",
    "def print_result(km, ta, tb):\n",
    "    km_ = f'{key_map[\"a\"]},{key_map[\"b\"]},{key_map[\"c\"]}'\n",
    "    trip_a_ = ','.join(trip_a)\n",
    "    trip_b_ = ','.join(trip_b)\n",
    "    return f\"{km_},{trip_a_},{trip_b_}\""
   ]
  },
  {
   "cell_type": "code",
   "execution_count": 21,
   "id": "c9c63b94-333e-4dde-aa3a-688fafbc21a0",
   "metadata": {},
   "outputs": [
    {
     "data": {
      "text/plain": [
       "'1,3,2,a1,b3,a5,c4,e3,d1,f2,e4,c5,d3,b2,a4,c3,e2,d4,c6,b4,d5,f6,a6,b4,a2,c3,b5,a3,c4,a5,b3,c5,a4,b2,d3,c1,e2,d4,c2,e3,f1'"
      ]
     },
     "execution_count": 21,
     "metadata": {},
     "output_type": "execute_result"
    }
   ],
   "source": [
    "print_result(key_map, trip_a, trip_b)"
   ]
  },
  {
   "cell_type": "code",
   "execution_count": null,
   "id": "d77764a3-4e95-4e55-a891-58af6b3ecc6d",
   "metadata": {},
   "outputs": [],
   "source": []
  }
 ],
 "metadata": {
  "kernelspec": {
   "display_name": "Python 3 (ipykernel)",
   "language": "python",
   "name": "python3"
  },
  "language_info": {
   "codemirror_mode": {
    "name": "ipython",
    "version": 3
   },
   "file_extension": ".py",
   "mimetype": "text/x-python",
   "name": "python",
   "nbconvert_exporter": "python",
   "pygments_lexer": "ipython3",
   "version": "3.10.0"
  }
 },
 "nbformat": 4,
 "nbformat_minor": 5
}
