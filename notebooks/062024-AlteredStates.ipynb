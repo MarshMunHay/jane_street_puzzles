{
 "cells": [
  {
   "cell_type": "code",
   "execution_count": null,
   "id": "1ed88deb-b5e6-499f-acfb-d8bc19a9380b",
   "metadata": {
    "scrolled": true
   },
   "outputs": [],
   "source": [
    "!pip install pandas\n",
    "!pip install simanneal\n",
    "!pip install lxml\n",
    "!pip install networkx\n",
    "!pip install plotly\n",
    "!pip install -U kaleido\n",
    "!pip install html5lib\n",
    "!pip install jupyter-black jupyter"
   ]
  },
  {
   "cell_type": "code",
   "execution_count": 2,
   "id": "f430f693-2740-4c6a-95a5-f94f0b57975d",
   "metadata": {},
   "outputs": [],
   "source": [
    "import pandas as pd\n",
    "from itertools import compress\n",
    "import random\n",
    "import numpy as np\n",
    "import networkx as nx \n",
    "import plotly.express as px\n",
    "from IPython.display import Image\n",
    "import plotly.graph_objects as go\n",
    "import time"
   ]
  },
  {
   "cell_type": "markdown",
   "id": "de3b2855-c368-4453-b57b-282a6bd12523",
   "metadata": {},
   "source": [
    "# Utils"
   ]
  },
  {
   "cell_type": "code",
   "execution_count": 46,
   "id": "b94a1d3f-693e-4542-9b93-0d8fde5c3e42",
   "metadata": {},
   "outputs": [],
   "source": [
    "state_codes = {\n",
    "    \"alabama\": \"AL\",\n",
    "    \"alaska\": \"AK\",\n",
    "    \"arizona\": \"AZ\",\n",
    "    \"arkansas\": \"AR\",\n",
    "    \"california\": \"CA\",\n",
    "    \"colorado\": \"CO\",\n",
    "    \"connecticut\": \"CT\",\n",
    "    \"delaware\": \"DE\",\n",
    "    \"florida\": \"FL\",\n",
    "    \"georgia\": \"GA\",\n",
    "    \"hawaii\": \"HI\",\n",
    "    \"idaho\": \"ID\",\n",
    "    \"illinois\": \"IL\",\n",
    "    \"indiana\": \"IN\",\n",
    "    \"iowa\": \"IA\",\n",
    "    \"kansas\": \"KS\",\n",
    "    \"kentucky\": \"KY\",\n",
    "    \"louisiana\": \"LA\",\n",
    "    \"maine\": \"ME\",\n",
    "    \"maryland\": \"MD\",\n",
    "    \"massachusetts\": \"MA\",\n",
    "    \"michigan\": \"MI\",\n",
    "    \"minnesota\": \"MN\",\n",
    "    \"mississippi\": \"MS\",\n",
    "    \"missouri\": \"MO\",\n",
    "    \"montana\": \"MT\",\n",
    "    \"nebraska\": \"NE\",\n",
    "    \"nevada\": \"NV\",\n",
    "    \"newhampshire\": \"NH\",\n",
    "    \"newjersey\": \"NJ\",\n",
    "    \"newmexico\": \"NM\",\n",
    "    \"newyork\": \"NY\",\n",
    "    \"northcarolina\": \"NC\",\n",
    "    \"northdakota\": \"ND\",\n",
    "    \"ohio\": \"OH\",\n",
    "    \"oklahoma\": \"OK\",\n",
    "    \"oregon\": \"OR\",\n",
    "    \"pennsylvania\": \"PA\",\n",
    "    \"rhodeisland\": \"RI\",\n",
    "    \"southcarolina\": \"SC\",\n",
    "    \"southdakota\": \"SD\",\n",
    "    \"tennessee\": \"TN\",\n",
    "    \"texas\": \"TX\",\n",
    "    \"utah\": \"UT\",\n",
    "    \"vermont\": \"VT\",\n",
    "    \"virginia\": \"VA\",\n",
    "    \"washington\": \"WA\",\n",
    "    \"westvirginia\": \"WV\",\n",
    "    \"wisconsin\": \"WI\",\n",
    "    \"wyoming\": \"WY\",\n",
    "}\n",
    "\n",
    "def eval_states(df, states):\n",
    "    \"\"\"\n",
    "    Evaluates the score of a subset of states\n",
    "    \"\"\"\n",
    "    return df.loc[df[\"state\"].isin(states)][\"score\"].sum()\n",
    "\n",
    "\n",
    "def create_grid(n):\n",
    "    \"\"\"\n",
    "    Create a square grid of size nxn\n",
    "    \"\"\"\n",
    "    return [[\"\" for _ in range(n)] for _ in range(n)]\n",
    "\n",
    "\n",
    "def generate_inbound_moves(g, r, c):\n",
    "    \"\"\"\n",
    "    Creates a set of moves that are one king's move away from (r,c)\n",
    "    \"\"\"\n",
    "    R = len(g)\n",
    "    C = len(g[0])\n",
    "    k_moves = [\n",
    "        [r - 1, c - 1],\n",
    "        [r - 1, c],\n",
    "        [r - 1, c + 1],\n",
    "        [r, c - 1],\n",
    "        [r, c + 1],\n",
    "        [r + 1, c - 1],\n",
    "        [r + 1, c],\n",
    "        [r + 1, c + 1],\n",
    "    ]\n",
    "    f_k_moves = list(\n",
    "        map(lambda x: ((x[0] < R) & (x[0] >= 0)) & ((x[1] < C) & (x[1] >= 0)), k_moves)\n",
    "    )\n",
    "    mv = list(compress(k_moves, f_k_moves))\n",
    "    return mv\n",
    "\n",
    "\n",
    "def find_state(g, positions, word, edits, found_word, idx):\n",
    "    \"\"\"\n",
    "    Performs a depth first search to find whether a state has been embedded into a graph within 1 edit\n",
    "    \"\"\"\n",
    "    if (len(word) == len(found_word)) and (edits <= 1):\n",
    "        return True\n",
    "\n",
    "    if idx >= len(word):\n",
    "        return False\n",
    "\n",
    "    if edits >= 2:\n",
    "        return False\n",
    "\n",
    "    i = positions[0]\n",
    "    j = positions[1]\n",
    "    if found_word == \"\":\n",
    "        if g[i][j] != word[0]:\n",
    "            edits += 1\n",
    "        found_word = g[i][j]\n",
    "        idx = 1\n",
    "\n",
    "    mvs = generate_inbound_moves(g, i, j)\n",
    "    for position in mvs:\n",
    "        r = position[0]\n",
    "        c = position[1]\n",
    "        if (r >= 0) and (c >= 0) and (r < len(g)) and (c < len(g[0])):\n",
    "            tmp_edits = edits\n",
    "            if word[idx] != g[position[0]][position[1]]:\n",
    "                    tmp_edits = edits + 1\n",
    "            tmp_word = found_word + g[position[0]][position[1]]\n",
    "            tmp_idx = idx + 1\n",
    "            res = find_state(g, position, word, tmp_edits, tmp_word, tmp_idx)\n",
    "            if res:\n",
    "                return res\n",
    "            tmp_word = found_word\n",
    "            tmp_idx = idx\n",
    "            tmp_edits = edits\n",
    "    return False\n",
    "\n",
    "\n",
    "def go_through_positions(g, word):\n",
    "    \"\"\"\n",
    "    Iterates through every starting position and performs a depth first search\n",
    "    \"\"\"\n",
    "    for r in range(len(g)):\n",
    "        for c in range(len(g[0])):\n",
    "            if find_state(g, [r, c], word, 0, \"\", 0):\n",
    "                return True\n",
    "    else:\n",
    "        return False\n",
    "\n",
    "\n",
    "def determine_states(df, s):\n",
    "    \"\"\"\n",
    "    Iterates through every state to which state has been embedded\n",
    "    \"\"\"\n",
    "    found = []\n",
    "    states = df[\"state\"].tolist()\n",
    "    for state in states:\n",
    "        if go_through_positions(s, state):\n",
    "            found.append(state)\n",
    "    return found\n",
    "\n",
    "\n",
    "def find_state_path(g, positions, word, edits, found_word, path, idx):\n",
    "    \"\"\"\n",
    "    Performs a depth first search to find the path taken through the matrix\n",
    "    \"\"\"\n",
    "    if (len(word) == len(found_word)) and (edits <= 1):\n",
    "        return path\n",
    "\n",
    "    if idx >= len(word):\n",
    "        return []\n",
    "\n",
    "    if edits >= 2:\n",
    "        return []\n",
    "\n",
    "    i = positions[0]\n",
    "    j = positions[1]\n",
    "    if found_word == \"\":\n",
    "        if g[i][j] != word[0]:\n",
    "            edits += 1\n",
    "        found_word = g[i][j]\n",
    "        # print(positions)\n",
    "        path.extend([positions])\n",
    "        idx = 1\n",
    "\n",
    "    mvs = generate_inbound_moves(g, i, j)\n",
    "    for position in mvs:\n",
    "        r = position[0]\n",
    "        c = position[1]\n",
    "\n",
    "        if (r >= 0) and (c >= 0) and (r < len(g)) and (c < len(g[0])):\n",
    "            tmp_edits = edits\n",
    "            if word[idx] != g[position[0]][position[1]]:\n",
    "                tmp_edits = edits + 1\n",
    "            tmp_word = found_word + g[position[0]][position[1]]\n",
    "            tmp_idx = idx + 1\n",
    "            path.extend([position])\n",
    "            res = find_state_path(g, position, word, tmp_edits, tmp_word, path, tmp_idx)\n",
    "            if res:\n",
    "                return res\n",
    "            tmp_word = found_word\n",
    "            tmp_idx = idx\n",
    "            tmp_edits = edits\n",
    "            path.pop()\n",
    "    return []\n",
    "\n",
    "\n",
    "def go_through_positions_to_find_path(g, word):\n",
    "    for r in range(len(g)):\n",
    "        for c in range(len(g[0])):\n",
    "            res = find_state_path(g, [r, c], word, 0, \"\", [], 0)\n",
    "            if res:\n",
    "                return res\n",
    "    else:\n",
    "        return False\n",
    "\n",
    "def determine_coast_to_coast(s):\n",
    "    '''\n",
    "    Determines if a set of states contains a path from the Pacific Coast to the Atlantic Coast\n",
    "    '''\n",
    "    filtered_dict = {k:v for k,v in usa_graph.items() if k in s}\n",
    "    \n",
    "    for k,v in filtered_dict.items():\n",
    "        f = []\n",
    "        for s in v:\n",
    "            if s in s:\n",
    "                f.append(s)\n",
    "        filtered_dict[k] = f\n",
    "\n",
    "    G = nx.Graph(filtered_dict)\n",
    "    pacific_states = [\n",
    "        'washington',\n",
    "        'oregon',\n",
    "        'california'\n",
    "    ]\n",
    "    \n",
    "    atlantic_coast_states = [\n",
    "        'maine', 'newhampshire', 'massachusetts', 'rhodeisland', 'connecticut',\n",
    "        'newyork', 'newjersey', 'pennsylvania', 'delaware', 'maryland',\n",
    "        'virginia', 'northcarolina', 'southcarolina', 'georgia', 'florida'\n",
    "    ]\n",
    "\n",
    "    for ps in pacific_states:\n",
    "        for at_s in atlantic_coast_states:\n",
    "            try: \n",
    "                return True if nx.shortest_path(G, ps, at_s) else False\n",
    "            except:\n",
    "                pass\n",
    "    return False"
   ]
  },
  {
   "cell_type": "markdown",
   "id": "ade64e9e-154b-4600-9230-6bb308a80bde",
   "metadata": {},
   "source": [
    "# Scoring and Evaluation"
   ]
  },
  {
   "cell_type": "code",
   "execution_count": 47,
   "id": "107acfa4-07b6-4632-bccc-bde4c8a468dc",
   "metadata": {},
   "outputs": [],
   "source": [
    "def read_us_population_table():\n",
    "    with open(\"us_population_by_state.html\") as f:\n",
    "        eval_df = pd.read_html(f)[0]\n",
    "    eval_df = eval_df[[\"State\", \"Population (2020)[86]\"]].rename(\n",
    "        columns={\"State\": \"state\", \"Population (2020)[86]\": \"score\"}\n",
    "    )\n",
    "    eval_df[\"state\"] = eval_df[\"state\"].str.lower().str.replace(\" \", \"\")\n",
    "\n",
    "    eval_df = eval_df.loc[\n",
    "        (eval_df[\"state\"] != \"districtofcolumbia\")\n",
    "        & (eval_df[\"state\"] != \"unitedstates\")\n",
    "    ]\n",
    "    return eval_df"
   ]
  },
  {
   "cell_type": "code",
   "execution_count": 48,
   "id": "4ed2cc8f-4f7f-4d18-8106-42f250f30ecf",
   "metadata": {},
   "outputs": [],
   "source": [
    "eval_df = read_us_population_table()"
   ]
  },
  {
   "cell_type": "code",
   "execution_count": 49,
   "id": "23991f60-998d-4492-98f3-bdb1780cfaf2",
   "metadata": {},
   "outputs": [
    {
     "data": {
      "application/vnd.plotly.v1+json": {
       "config": {
        "plotlyServerURL": "https://plot.ly"
       },
       "data": [
        {
         "hovertemplate": "variable=score<br>index=%{x}<br>value=%{y}<extra></extra>",
         "legendgroup": "score",
         "line": {
          "color": "#636efa",
          "dash": "solid"
         },
         "marker": {
          "symbol": "circle"
         },
         "mode": "lines",
         "name": "score",
         "orientation": "v",
         "showlegend": true,
         "type": "scatter",
         "x": [
          0,
          1,
          2,
          3,
          4,
          5,
          6,
          7,
          8,
          9,
          10,
          11,
          12,
          13,
          14,
          15,
          16,
          17,
          18,
          19,
          20,
          21,
          22,
          23,
          24,
          25,
          26,
          27,
          28,
          29,
          30,
          31,
          32,
          33,
          34,
          35,
          36,
          37,
          38,
          39,
          40,
          41,
          42,
          43,
          44,
          45,
          46,
          47,
          49,
          50
         ],
         "xaxis": "x",
         "y": [
          39538223,
          68683728,
          90221915,
          110423164,
          123425864,
          136238372,
          148037820,
          158749728,
          169189116,
          179266447,
          188555441,
          197186834,
          204892115,
          212043617,
          219073534,
          225984374,
          232769902,
          238947126,
          245102039,
          250995757,
          256769471,
          262475965,
          267594390,
          272618669,
          277276426,
          281782262,
          286019518,
          289978871,
          293584815,
          296856431,
          300046800,
          303151414,
          306162938,
          309124217,
          312062097,
          314179619,
          316141123,
          317980229,
          319773945,
          321229216,
          322606745,
          323969104,
          325066483,
          326150708,
          327140656,
          328027323,
          328806417,
          329539808,
          330182885,
          330759736
         ],
         "yaxis": "y"
        }
       ],
       "layout": {
        "autosize": true,
        "legend": {
         "title": {
          "text": "variable"
         },
         "tracegroupgap": 0
        },
        "template": {
         "data": {
          "bar": [
           {
            "error_x": {
             "color": "#2a3f5f"
            },
            "error_y": {
             "color": "#2a3f5f"
            },
            "marker": {
             "line": {
              "color": "#E5ECF6",
              "width": 0.5
             },
             "pattern": {
              "fillmode": "overlay",
              "size": 10,
              "solidity": 0.2
             }
            },
            "type": "bar"
           }
          ],
          "barpolar": [
           {
            "marker": {
             "line": {
              "color": "#E5ECF6",
              "width": 0.5
             },
             "pattern": {
              "fillmode": "overlay",
              "size": 10,
              "solidity": 0.2
             }
            },
            "type": "barpolar"
           }
          ],
          "carpet": [
           {
            "aaxis": {
             "endlinecolor": "#2a3f5f",
             "gridcolor": "white",
             "linecolor": "white",
             "minorgridcolor": "white",
             "startlinecolor": "#2a3f5f"
            },
            "baxis": {
             "endlinecolor": "#2a3f5f",
             "gridcolor": "white",
             "linecolor": "white",
             "minorgridcolor": "white",
             "startlinecolor": "#2a3f5f"
            },
            "type": "carpet"
           }
          ],
          "choropleth": [
           {
            "colorbar": {
             "outlinewidth": 0,
             "ticks": ""
            },
            "type": "choropleth"
           }
          ],
          "contour": [
           {
            "colorbar": {
             "outlinewidth": 0,
             "ticks": ""
            },
            "colorscale": [
             [
              0,
              "#0d0887"
             ],
             [
              0.1111111111111111,
              "#46039f"
             ],
             [
              0.2222222222222222,
              "#7201a8"
             ],
             [
              0.3333333333333333,
              "#9c179e"
             ],
             [
              0.4444444444444444,
              "#bd3786"
             ],
             [
              0.5555555555555556,
              "#d8576b"
             ],
             [
              0.6666666666666666,
              "#ed7953"
             ],
             [
              0.7777777777777778,
              "#fb9f3a"
             ],
             [
              0.8888888888888888,
              "#fdca26"
             ],
             [
              1,
              "#f0f921"
             ]
            ],
            "type": "contour"
           }
          ],
          "contourcarpet": [
           {
            "colorbar": {
             "outlinewidth": 0,
             "ticks": ""
            },
            "type": "contourcarpet"
           }
          ],
          "heatmap": [
           {
            "colorbar": {
             "outlinewidth": 0,
             "ticks": ""
            },
            "colorscale": [
             [
              0,
              "#0d0887"
             ],
             [
              0.1111111111111111,
              "#46039f"
             ],
             [
              0.2222222222222222,
              "#7201a8"
             ],
             [
              0.3333333333333333,
              "#9c179e"
             ],
             [
              0.4444444444444444,
              "#bd3786"
             ],
             [
              0.5555555555555556,
              "#d8576b"
             ],
             [
              0.6666666666666666,
              "#ed7953"
             ],
             [
              0.7777777777777778,
              "#fb9f3a"
             ],
             [
              0.8888888888888888,
              "#fdca26"
             ],
             [
              1,
              "#f0f921"
             ]
            ],
            "type": "heatmap"
           }
          ],
          "heatmapgl": [
           {
            "colorbar": {
             "outlinewidth": 0,
             "ticks": ""
            },
            "colorscale": [
             [
              0,
              "#0d0887"
             ],
             [
              0.1111111111111111,
              "#46039f"
             ],
             [
              0.2222222222222222,
              "#7201a8"
             ],
             [
              0.3333333333333333,
              "#9c179e"
             ],
             [
              0.4444444444444444,
              "#bd3786"
             ],
             [
              0.5555555555555556,
              "#d8576b"
             ],
             [
              0.6666666666666666,
              "#ed7953"
             ],
             [
              0.7777777777777778,
              "#fb9f3a"
             ],
             [
              0.8888888888888888,
              "#fdca26"
             ],
             [
              1,
              "#f0f921"
             ]
            ],
            "type": "heatmapgl"
           }
          ],
          "histogram": [
           {
            "marker": {
             "pattern": {
              "fillmode": "overlay",
              "size": 10,
              "solidity": 0.2
             }
            },
            "type": "histogram"
           }
          ],
          "histogram2d": [
           {
            "colorbar": {
             "outlinewidth": 0,
             "ticks": ""
            },
            "colorscale": [
             [
              0,
              "#0d0887"
             ],
             [
              0.1111111111111111,
              "#46039f"
             ],
             [
              0.2222222222222222,
              "#7201a8"
             ],
             [
              0.3333333333333333,
              "#9c179e"
             ],
             [
              0.4444444444444444,
              "#bd3786"
             ],
             [
              0.5555555555555556,
              "#d8576b"
             ],
             [
              0.6666666666666666,
              "#ed7953"
             ],
             [
              0.7777777777777778,
              "#fb9f3a"
             ],
             [
              0.8888888888888888,
              "#fdca26"
             ],
             [
              1,
              "#f0f921"
             ]
            ],
            "type": "histogram2d"
           }
          ],
          "histogram2dcontour": [
           {
            "colorbar": {
             "outlinewidth": 0,
             "ticks": ""
            },
            "colorscale": [
             [
              0,
              "#0d0887"
             ],
             [
              0.1111111111111111,
              "#46039f"
             ],
             [
              0.2222222222222222,
              "#7201a8"
             ],
             [
              0.3333333333333333,
              "#9c179e"
             ],
             [
              0.4444444444444444,
              "#bd3786"
             ],
             [
              0.5555555555555556,
              "#d8576b"
             ],
             [
              0.6666666666666666,
              "#ed7953"
             ],
             [
              0.7777777777777778,
              "#fb9f3a"
             ],
             [
              0.8888888888888888,
              "#fdca26"
             ],
             [
              1,
              "#f0f921"
             ]
            ],
            "type": "histogram2dcontour"
           }
          ],
          "mesh3d": [
           {
            "colorbar": {
             "outlinewidth": 0,
             "ticks": ""
            },
            "type": "mesh3d"
           }
          ],
          "parcoords": [
           {
            "line": {
             "colorbar": {
              "outlinewidth": 0,
              "ticks": ""
             }
            },
            "type": "parcoords"
           }
          ],
          "pie": [
           {
            "automargin": true,
            "type": "pie"
           }
          ],
          "scatter": [
           {
            "fillpattern": {
             "fillmode": "overlay",
             "size": 10,
             "solidity": 0.2
            },
            "type": "scatter"
           }
          ],
          "scatter3d": [
           {
            "line": {
             "colorbar": {
              "outlinewidth": 0,
              "ticks": ""
             }
            },
            "marker": {
             "colorbar": {
              "outlinewidth": 0,
              "ticks": ""
             }
            },
            "type": "scatter3d"
           }
          ],
          "scattercarpet": [
           {
            "marker": {
             "colorbar": {
              "outlinewidth": 0,
              "ticks": ""
             }
            },
            "type": "scattercarpet"
           }
          ],
          "scattergeo": [
           {
            "marker": {
             "colorbar": {
              "outlinewidth": 0,
              "ticks": ""
             }
            },
            "type": "scattergeo"
           }
          ],
          "scattergl": [
           {
            "marker": {
             "colorbar": {
              "outlinewidth": 0,
              "ticks": ""
             }
            },
            "type": "scattergl"
           }
          ],
          "scattermapbox": [
           {
            "marker": {
             "colorbar": {
              "outlinewidth": 0,
              "ticks": ""
             }
            },
            "type": "scattermapbox"
           }
          ],
          "scatterpolar": [
           {
            "marker": {
             "colorbar": {
              "outlinewidth": 0,
              "ticks": ""
             }
            },
            "type": "scatterpolar"
           }
          ],
          "scatterpolargl": [
           {
            "marker": {
             "colorbar": {
              "outlinewidth": 0,
              "ticks": ""
             }
            },
            "type": "scatterpolargl"
           }
          ],
          "scatterternary": [
           {
            "marker": {
             "colorbar": {
              "outlinewidth": 0,
              "ticks": ""
             }
            },
            "type": "scatterternary"
           }
          ],
          "surface": [
           {
            "colorbar": {
             "outlinewidth": 0,
             "ticks": ""
            },
            "colorscale": [
             [
              0,
              "#0d0887"
             ],
             [
              0.1111111111111111,
              "#46039f"
             ],
             [
              0.2222222222222222,
              "#7201a8"
             ],
             [
              0.3333333333333333,
              "#9c179e"
             ],
             [
              0.4444444444444444,
              "#bd3786"
             ],
             [
              0.5555555555555556,
              "#d8576b"
             ],
             [
              0.6666666666666666,
              "#ed7953"
             ],
             [
              0.7777777777777778,
              "#fb9f3a"
             ],
             [
              0.8888888888888888,
              "#fdca26"
             ],
             [
              1,
              "#f0f921"
             ]
            ],
            "type": "surface"
           }
          ],
          "table": [
           {
            "cells": {
             "fill": {
              "color": "#EBF0F8"
             },
             "line": {
              "color": "white"
             }
            },
            "header": {
             "fill": {
              "color": "#C8D4E3"
             },
             "line": {
              "color": "white"
             }
            },
            "type": "table"
           }
          ]
         },
         "layout": {
          "annotationdefaults": {
           "arrowcolor": "#2a3f5f",
           "arrowhead": 0,
           "arrowwidth": 1
          },
          "autotypenumbers": "strict",
          "coloraxis": {
           "colorbar": {
            "outlinewidth": 0,
            "ticks": ""
           }
          },
          "colorscale": {
           "diverging": [
            [
             0,
             "#8e0152"
            ],
            [
             0.1,
             "#c51b7d"
            ],
            [
             0.2,
             "#de77ae"
            ],
            [
             0.3,
             "#f1b6da"
            ],
            [
             0.4,
             "#fde0ef"
            ],
            [
             0.5,
             "#f7f7f7"
            ],
            [
             0.6,
             "#e6f5d0"
            ],
            [
             0.7,
             "#b8e186"
            ],
            [
             0.8,
             "#7fbc41"
            ],
            [
             0.9,
             "#4d9221"
            ],
            [
             1,
             "#276419"
            ]
           ],
           "sequential": [
            [
             0,
             "#0d0887"
            ],
            [
             0.1111111111111111,
             "#46039f"
            ],
            [
             0.2222222222222222,
             "#7201a8"
            ],
            [
             0.3333333333333333,
             "#9c179e"
            ],
            [
             0.4444444444444444,
             "#bd3786"
            ],
            [
             0.5555555555555556,
             "#d8576b"
            ],
            [
             0.6666666666666666,
             "#ed7953"
            ],
            [
             0.7777777777777778,
             "#fb9f3a"
            ],
            [
             0.8888888888888888,
             "#fdca26"
            ],
            [
             1,
             "#f0f921"
            ]
           ],
           "sequentialminus": [
            [
             0,
             "#0d0887"
            ],
            [
             0.1111111111111111,
             "#46039f"
            ],
            [
             0.2222222222222222,
             "#7201a8"
            ],
            [
             0.3333333333333333,
             "#9c179e"
            ],
            [
             0.4444444444444444,
             "#bd3786"
            ],
            [
             0.5555555555555556,
             "#d8576b"
            ],
            [
             0.6666666666666666,
             "#ed7953"
            ],
            [
             0.7777777777777778,
             "#fb9f3a"
            ],
            [
             0.8888888888888888,
             "#fdca26"
            ],
            [
             1,
             "#f0f921"
            ]
           ]
          },
          "colorway": [
           "#636efa",
           "#EF553B",
           "#00cc96",
           "#ab63fa",
           "#FFA15A",
           "#19d3f3",
           "#FF6692",
           "#B6E880",
           "#FF97FF",
           "#FECB52"
          ],
          "font": {
           "color": "#2a3f5f"
          },
          "geo": {
           "bgcolor": "white",
           "lakecolor": "white",
           "landcolor": "#E5ECF6",
           "showlakes": true,
           "showland": true,
           "subunitcolor": "white"
          },
          "hoverlabel": {
           "align": "left"
          },
          "hovermode": "closest",
          "mapbox": {
           "style": "light"
          },
          "paper_bgcolor": "white",
          "plot_bgcolor": "#E5ECF6",
          "polar": {
           "angularaxis": {
            "gridcolor": "white",
            "linecolor": "white",
            "ticks": ""
           },
           "bgcolor": "#E5ECF6",
           "radialaxis": {
            "gridcolor": "white",
            "linecolor": "white",
            "ticks": ""
           }
          },
          "scene": {
           "xaxis": {
            "backgroundcolor": "#E5ECF6",
            "gridcolor": "white",
            "gridwidth": 2,
            "linecolor": "white",
            "showbackground": true,
            "ticks": "",
            "zerolinecolor": "white"
           },
           "yaxis": {
            "backgroundcolor": "#E5ECF6",
            "gridcolor": "white",
            "gridwidth": 2,
            "linecolor": "white",
            "showbackground": true,
            "ticks": "",
            "zerolinecolor": "white"
           },
           "zaxis": {
            "backgroundcolor": "#E5ECF6",
            "gridcolor": "white",
            "gridwidth": 2,
            "linecolor": "white",
            "showbackground": true,
            "ticks": "",
            "zerolinecolor": "white"
           }
          },
          "shapedefaults": {
           "line": {
            "color": "#2a3f5f"
           }
          },
          "ternary": {
           "aaxis": {
            "gridcolor": "white",
            "linecolor": "white",
            "ticks": ""
           },
           "baxis": {
            "gridcolor": "white",
            "linecolor": "white",
            "ticks": ""
           },
           "bgcolor": "#E5ECF6",
           "caxis": {
            "gridcolor": "white",
            "linecolor": "white",
            "ticks": ""
           }
          },
          "title": {
           "x": 0.05
          },
          "xaxis": {
           "automargin": true,
           "gridcolor": "white",
           "linecolor": "white",
           "ticks": "",
           "title": {
            "standoff": 15
           },
           "zerolinecolor": "white",
           "zerolinewidth": 2
          },
          "yaxis": {
           "automargin": true,
           "gridcolor": "white",
           "linecolor": "white",
           "ticks": "",
           "title": {
            "standoff": 15
           },
           "zerolinecolor": "white",
           "zerolinewidth": 2
          }
         }
        },
        "title": {
         "text": "Cummulative Score of N states"
        },
        "xaxis": {
         "anchor": "y",
         "autorange": true,
         "domain": [
          0,
          1
         ],
         "range": [
          0,
          50
         ],
         "title": {
          "text": "index"
         },
         "type": "linear"
        },
        "yaxis": {
         "anchor": "x",
         "autorange": true,
         "domain": [
          0,
          1
         ],
         "range": [
          23359250.055555556,
          346938708.9444444
         ],
         "title": {
          "text": "value"
         },
         "type": "linear"
        }
       }
      },
      "image/png": "[encoded data removed]",
      "text/html": [
       "<div>                            <div id=\"80d9bfc6-bff2-4448-b0b1-634728ec1214\" class=\"plotly-graph-div\" style=\"height:525px; width:100%;\"></div>            <script type=\"text/javascript\">                require([\"plotly\"], function(Plotly) {                    window.PLOTLYENV=window.PLOTLYENV || {};                                    if (document.getElementById(\"80d9bfc6-bff2-4448-b0b1-634728ec1214\")) {                    Plotly.newPlot(                        \"80d9bfc6-bff2-4448-b0b1-634728ec1214\",                        [{\"hovertemplate\":\"variable=score\\u003cbr\\u003eindex=%{x}\\u003cbr\\u003evalue=%{y}\\u003cextra\\u003e\\u003c\\u002fextra\\u003e\",\"legendgroup\":\"score\",\"line\":{\"color\":\"#636efa\",\"dash\":\"solid\"},\"marker\":{\"symbol\":\"circle\"},\"mode\":\"lines\",\"name\":\"score\",\"orientation\":\"v\",\"showlegend\":true,\"x\":[0,1,2,3,4,5,6,7,8,9,10,11,12,13,14,15,16,17,18,19,20,21,22,23,24,25,26,27,28,29,30,31,32,33,34,35,36,37,38,39,40,41,42,43,44,45,46,47,49,50],\"xaxis\":\"x\",\"y\":[39538223,68683728,90221915,110423164,123425864,136238372,148037820,158749728,169189116,179266447,188555441,197186834,204892115,212043617,219073534,225984374,232769902,238947126,245102039,250995757,256769471,262475965,267594390,272618669,277276426,281782262,286019518,289978871,293584815,296856431,300046800,303151414,306162938,309124217,312062097,314179619,316141123,317980229,319773945,321229216,322606745,323969104,325066483,326150708,327140656,328027323,328806417,329539808,330182885,330759736],\"yaxis\":\"y\",\"type\":\"scatter\"}],                        {\"template\":{\"data\":{\"histogram2dcontour\":[{\"type\":\"histogram2dcontour\",\"colorbar\":{\"outlinewidth\":0,\"ticks\":\"\"},\"colorscale\":[[0.0,\"#0d0887\"],[0.1111111111111111,\"#46039f\"],[0.2222222222222222,\"#7201a8\"],[0.3333333333333333,\"#9c179e\"],[0.4444444444444444,\"#bd3786\"],[0.5555555555555556,\"#d8576b\"],[0.6666666666666666,\"#ed7953\"],[0.7777777777777778,\"#fb9f3a\"],[0.8888888888888888,\"#fdca26\"],[1.0,\"#f0f921\"]]}],\"choropleth\":[{\"type\":\"choropleth\",\"colorbar\":{\"outlinewidth\":0,\"ticks\":\"\"}}],\"histogram2d\":[{\"type\":\"histogram2d\",\"colorbar\":{\"outlinewidth\":0,\"ticks\":\"\"},\"colorscale\":[[0.0,\"#0d0887\"],[0.1111111111111111,\"#46039f\"],[0.2222222222222222,\"#7201a8\"],[0.3333333333333333,\"#9c179e\"],[0.4444444444444444,\"#bd3786\"],[0.5555555555555556,\"#d8576b\"],[0.6666666666666666,\"#ed7953\"],[0.7777777777777778,\"#fb9f3a\"],[0.8888888888888888,\"#fdca26\"],[1.0,\"#f0f921\"]]}],\"heatmap\":[{\"type\":\"heatmap\",\"colorbar\":{\"outlinewidth\":0,\"ticks\":\"\"},\"colorscale\":[[0.0,\"#0d0887\"],[0.1111111111111111,\"#46039f\"],[0.2222222222222222,\"#7201a8\"],[0.3333333333333333,\"#9c179e\"],[0.4444444444444444,\"#bd3786\"],[0.5555555555555556,\"#d8576b\"],[0.6666666666666666,\"#ed7953\"],[0.7777777777777778,\"#fb9f3a\"],[0.8888888888888888,\"#fdca26\"],[1.0,\"#f0f921\"]]}],\"heatmapgl\":[{\"type\":\"heatmapgl\",\"colorbar\":{\"outlinewidth\":0,\"ticks\":\"\"},\"colorscale\":[[0.0,\"#0d0887\"],[0.1111111111111111,\"#46039f\"],[0.2222222222222222,\"#7201a8\"],[0.3333333333333333,\"#9c179e\"],[0.4444444444444444,\"#bd3786\"],[0.5555555555555556,\"#d8576b\"],[0.6666666666666666,\"#ed7953\"],[0.7777777777777778,\"#fb9f3a\"],[0.8888888888888888,\"#fdca26\"],[1.0,\"#f0f921\"]]}],\"contourcarpet\":[{\"type\":\"contourcarpet\",\"colorbar\":{\"outlinewidth\":0,\"ticks\":\"\"}}],\"contour\":[{\"type\":\"contour\",\"colorbar\":{\"outlinewidth\":0,\"ticks\":\"\"},\"colorscale\":[[0.0,\"#0d0887\"],[0.1111111111111111,\"#46039f\"],[0.2222222222222222,\"#7201a8\"],[0.3333333333333333,\"#9c179e\"],[0.4444444444444444,\"#bd3786\"],[0.5555555555555556,\"#d8576b\"],[0.6666666666666666,\"#ed7953\"],[0.7777777777777778,\"#fb9f3a\"],[0.8888888888888888,\"#fdca26\"],[1.0,\"#f0f921\"]]}],\"surface\":[{\"type\":\"surface\",\"colorbar\":{\"outlinewidth\":0,\"ticks\":\"\"},\"colorscale\":[[0.0,\"#0d0887\"],[0.1111111111111111,\"#46039f\"],[0.2222222222222222,\"#7201a8\"],[0.3333333333333333,\"#9c179e\"],[0.4444444444444444,\"#bd3786\"],[0.5555555555555556,\"#d8576b\"],[0.6666666666666666,\"#ed7953\"],[0.7777777777777778,\"#fb9f3a\"],[0.8888888888888888,\"#fdca26\"],[1.0,\"#f0f921\"]]}],\"mesh3d\":[{\"type\":\"mesh3d\",\"colorbar\":{\"outlinewidth\":0,\"ticks\":\"\"}}],\"scatter\":[{\"fillpattern\":{\"fillmode\":\"overlay\",\"size\":10,\"solidity\":0.2},\"type\":\"scatter\"}],\"parcoords\":[{\"type\":\"parcoords\",\"line\":{\"colorbar\":{\"outlinewidth\":0,\"ticks\":\"\"}}}],\"scatterpolargl\":[{\"type\":\"scatterpolargl\",\"marker\":{\"colorbar\":{\"outlinewidth\":0,\"ticks\":\"\"}}}],\"bar\":[{\"error_x\":{\"color\":\"#2a3f5f\"},\"error_y\":{\"color\":\"#2a3f5f\"},\"marker\":{\"line\":{\"color\":\"#E5ECF6\",\"width\":0.5},\"pattern\":{\"fillmode\":\"overlay\",\"size\":10,\"solidity\":0.2}},\"type\":\"bar\"}],\"scattergeo\":[{\"type\":\"scattergeo\",\"marker\":{\"colorbar\":{\"outlinewidth\":0,\"ticks\":\"\"}}}],\"scatterpolar\":[{\"type\":\"scatterpolar\",\"marker\":{\"colorbar\":{\"outlinewidth\":0,\"ticks\":\"\"}}}],\"histogram\":[{\"marker\":{\"pattern\":{\"fillmode\":\"overlay\",\"size\":10,\"solidity\":0.2}},\"type\":\"histogram\"}],\"scattergl\":[{\"type\":\"scattergl\",\"marker\":{\"colorbar\":{\"outlinewidth\":0,\"ticks\":\"\"}}}],\"scatter3d\":[{\"type\":\"scatter3d\",\"line\":{\"colorbar\":{\"outlinewidth\":0,\"ticks\":\"\"}},\"marker\":{\"colorbar\":{\"outlinewidth\":0,\"ticks\":\"\"}}}],\"scattermapbox\":[{\"type\":\"scattermapbox\",\"marker\":{\"colorbar\":{\"outlinewidth\":0,\"ticks\":\"\"}}}],\"scatterternary\":[{\"type\":\"scatterternary\",\"marker\":{\"colorbar\":{\"outlinewidth\":0,\"ticks\":\"\"}}}],\"scattercarpet\":[{\"type\":\"scattercarpet\",\"marker\":{\"colorbar\":{\"outlinewidth\":0,\"ticks\":\"\"}}}],\"carpet\":[{\"aaxis\":{\"endlinecolor\":\"#2a3f5f\",\"gridcolor\":\"white\",\"linecolor\":\"white\",\"minorgridcolor\":\"white\",\"startlinecolor\":\"#2a3f5f\"},\"baxis\":{\"endlinecolor\":\"#2a3f5f\",\"gridcolor\":\"white\",\"linecolor\":\"white\",\"minorgridcolor\":\"white\",\"startlinecolor\":\"#2a3f5f\"},\"type\":\"carpet\"}],\"table\":[{\"cells\":{\"fill\":{\"color\":\"#EBF0F8\"},\"line\":{\"color\":\"white\"}},\"header\":{\"fill\":{\"color\":\"#C8D4E3\"},\"line\":{\"color\":\"white\"}},\"type\":\"table\"}],\"barpolar\":[{\"marker\":{\"line\":{\"color\":\"#E5ECF6\",\"width\":0.5},\"pattern\":{\"fillmode\":\"overlay\",\"size\":10,\"solidity\":0.2}},\"type\":\"barpolar\"}],\"pie\":[{\"automargin\":true,\"type\":\"pie\"}]},\"layout\":{\"autotypenumbers\":\"strict\",\"colorway\":[\"#636efa\",\"#EF553B\",\"#00cc96\",\"#ab63fa\",\"#FFA15A\",\"#19d3f3\",\"#FF6692\",\"#B6E880\",\"#FF97FF\",\"#FECB52\"],\"font\":{\"color\":\"#2a3f5f\"},\"hovermode\":\"closest\",\"hoverlabel\":{\"align\":\"left\"},\"paper_bgcolor\":\"white\",\"plot_bgcolor\":\"#E5ECF6\",\"polar\":{\"bgcolor\":\"#E5ECF6\",\"angularaxis\":{\"gridcolor\":\"white\",\"linecolor\":\"white\",\"ticks\":\"\"},\"radialaxis\":{\"gridcolor\":\"white\",\"linecolor\":\"white\",\"ticks\":\"\"}},\"ternary\":{\"bgcolor\":\"#E5ECF6\",\"aaxis\":{\"gridcolor\":\"white\",\"linecolor\":\"white\",\"ticks\":\"\"},\"baxis\":{\"gridcolor\":\"white\",\"linecolor\":\"white\",\"ticks\":\"\"},\"caxis\":{\"gridcolor\":\"white\",\"linecolor\":\"white\",\"ticks\":\"\"}},\"coloraxis\":{\"colorbar\":{\"outlinewidth\":0,\"ticks\":\"\"}},\"colorscale\":{\"sequential\":[[0.0,\"#0d0887\"],[0.1111111111111111,\"#46039f\"],[0.2222222222222222,\"#7201a8\"],[0.3333333333333333,\"#9c179e\"],[0.4444444444444444,\"#bd3786\"],[0.5555555555555556,\"#d8576b\"],[0.6666666666666666,\"#ed7953\"],[0.7777777777777778,\"#fb9f3a\"],[0.8888888888888888,\"#fdca26\"],[1.0,\"#f0f921\"]],\"sequentialminus\":[[0.0,\"#0d0887\"],[0.1111111111111111,\"#46039f\"],[0.2222222222222222,\"#7201a8\"],[0.3333333333333333,\"#9c179e\"],[0.4444444444444444,\"#bd3786\"],[0.5555555555555556,\"#d8576b\"],[0.6666666666666666,\"#ed7953\"],[0.7777777777777778,\"#fb9f3a\"],[0.8888888888888888,\"#fdca26\"],[1.0,\"#f0f921\"]],\"diverging\":[[0,\"#8e0152\"],[0.1,\"#c51b7d\"],[0.2,\"#de77ae\"],[0.3,\"#f1b6da\"],[0.4,\"#fde0ef\"],[0.5,\"#f7f7f7\"],[0.6,\"#e6f5d0\"],[0.7,\"#b8e186\"],[0.8,\"#7fbc41\"],[0.9,\"#4d9221\"],[1,\"#276419\"]]},\"xaxis\":{\"gridcolor\":\"white\",\"linecolor\":\"white\",\"ticks\":\"\",\"title\":{\"standoff\":15},\"zerolinecolor\":\"white\",\"automargin\":true,\"zerolinewidth\":2},\"yaxis\":{\"gridcolor\":\"white\",\"linecolor\":\"white\",\"ticks\":\"\",\"title\":{\"standoff\":15},\"zerolinecolor\":\"white\",\"automargin\":true,\"zerolinewidth\":2},\"scene\":{\"xaxis\":{\"backgroundcolor\":\"#E5ECF6\",\"gridcolor\":\"white\",\"linecolor\":\"white\",\"showbackground\":true,\"ticks\":\"\",\"zerolinecolor\":\"white\",\"gridwidth\":2},\"yaxis\":{\"backgroundcolor\":\"#E5ECF6\",\"gridcolor\":\"white\",\"linecolor\":\"white\",\"showbackground\":true,\"ticks\":\"\",\"zerolinecolor\":\"white\",\"gridwidth\":2},\"zaxis\":{\"backgroundcolor\":\"#E5ECF6\",\"gridcolor\":\"white\",\"linecolor\":\"white\",\"showbackground\":true,\"ticks\":\"\",\"zerolinecolor\":\"white\",\"gridwidth\":2}},\"shapedefaults\":{\"line\":{\"color\":\"#2a3f5f\"}},\"annotationdefaults\":{\"arrowcolor\":\"#2a3f5f\",\"arrowhead\":0,\"arrowwidth\":1},\"geo\":{\"bgcolor\":\"white\",\"landcolor\":\"#E5ECF6\",\"subunitcolor\":\"white\",\"showland\":true,\"showlakes\":true,\"lakecolor\":\"white\"},\"title\":{\"x\":0.05},\"mapbox\":{\"style\":\"light\"}}},\"xaxis\":{\"anchor\":\"y\",\"domain\":[0.0,1.0],\"title\":{\"text\":\"index\"}},\"yaxis\":{\"anchor\":\"x\",\"domain\":[0.0,1.0],\"title\":{\"text\":\"value\"}},\"legend\":{\"title\":{\"text\":\"variable\"},\"tracegroupgap\":0},\"title\":{\"text\":\"Cummulative Score of N states\"}},                        {\"responsive\": true}                    ).then(function(){\n",
       "                            \n",
       "var gd = document.getElementById('80d9bfc6-bff2-4448-b0b1-634728ec1214');\n",
       "var x = new MutationObserver(function (mutations, observer) {{\n",
       "        var display = window.getComputedStyle(gd).display;\n",
       "        if (!display || display === 'none') {{\n",
       "            console.log([gd, 'removed!']);\n",
       "            Plotly.purge(gd);\n",
       "            observer.disconnect();\n",
       "        }}\n",
       "}});\n",
       "\n",
       "// Listen for the removal of the full notebook cells\n",
       "var notebookContainer = gd.closest('#notebook-container');\n",
       "if (notebookContainer) {{\n",
       "    x.observe(notebookContainer, {childList: true});\n",
       "}}\n",
       "\n",
       "// Listen for the clearing of the current output cell\n",
       "var outputEl = gd.closest('.output');\n",
       "if (outputEl) {{\n",
       "    x.observe(outputEl, {childList: true});\n",
       "}}\n",
       "\n",
       "                        })                };                });            </script>        </div>"
      ]
     },
     "metadata": {},
     "output_type": "display_data"
    }
   ],
   "source": [
    "px.line(eval_df[\"score\"].cumsum(), title=\"Cummulative Score of N states\")"
   ]
  },
  {
   "cell_type": "markdown",
   "id": "1524b917-b411-440c-bdce-381869ed29ef",
   "metadata": {},
   "source": [
    "# Anneal"
   ]
  },
  {
   "cell_type": "code",
   "execution_count": 50,
   "id": "9acc8977-4cd4-4fcb-8045-1c26062cd599",
   "metadata": {},
   "outputs": [],
   "source": [
    "from simanneal import Annealer\n",
    "\n",
    "\n",
    "class AlteredStatesProblem(Annealer):\n",
    "    def __init__(self, state, data):\n",
    "        super(AlteredStatesProblem, self).__init__(state)  # important!\n",
    "        self.data = data\n",
    "        self.TOTAL = self.data['score'].sum()\n",
    "\n",
    "    def move_add_letter(self):\n",
    "        \"\"\"\n",
    "        Generates a random letter and places it into a random position\n",
    "        \"\"\"\n",
    "        initial_energy = self.energy()\n",
    "        random_r = np.random.randint(0, len(self.state))\n",
    "        random_c = np.random.randint(0, len(self.state[0]))\n",
    "        letter = chr(np.random.randint(ord(\"a\"), ord(\"a\") + 26 - 1))\n",
    "        self.state[random_r][random_c] = letter\n",
    "        return self.energy() - initial_energy\n",
    "\n",
    "    def move_swap_letter(self):\n",
    "        \"\"\"\n",
    "        Swaps two letters within the matrix\n",
    "        \"\"\"\n",
    "        initial_energy = self.energy()\n",
    "        random_r_a = np.random.randint(0, len(self.state))\n",
    "        random_c_a = np.random.randint(0, len(self.state[0]))\n",
    "\n",
    "        random_r_b = np.random.randint(0, len(self.state))\n",
    "        random_c_b = np.random.randint(0, len(self.state[0]))\n",
    "\n",
    "        tmp = self.state[random_r_a][random_c_a]\n",
    "        self.state[random_r_a][random_c_a] = self.state[random_r_b][random_c_b]\n",
    "        self.state[random_r_b][random_c_b] = tmp\n",
    "        return self.energy() - initial_energy\n",
    "\n",
    "    def move(self):\n",
    "        \"\"\"\n",
    "        Make the state changes\n",
    "\n",
    "        1. Add New State\n",
    "        2. Find new orientation of latest placed state\n",
    "        \"\"\"\n",
    "        initial_energy = self.energy()\n",
    "        states_to_choose = []\n",
    "        direction = random.random()\n",
    "        if direction > 0.5:\n",
    "            return self.move_add_letter()\n",
    "        else:\n",
    "            return self.move_swap_letter()\n",
    "\n",
    "    def energy(self):\n",
    "        MAX_E = self.TOTAL\n",
    "        if self.state:\n",
    "            f = determine_states(self.data, self.state)\n",
    "            T = eval_states(self.data, f)\n",
    "        return MAX_E - T"
   ]
  },
  {
   "cell_type": "code",
   "execution_count": 51,
   "id": "55021fd0-914b-423a-9870-fed2b0687e56",
   "metadata": {
    "scrolled": true
   },
   "outputs": [
    {
     "name": "stderr",
     "output_type": "stream",
     "text": [
      " Temperature        Energy    Accept   Improve     Elapsed   Remaining\n",
      "     2.50000   96750175.00     6.40%     0.00%     0:24:09     0:00:00"
     ]
    }
   ],
   "source": [
    "test = create_grid(5)\n",
    "tsp = AlteredStatesProblem(test, eval_df)\n",
    "state, e = tsp.anneal() "
   ]
  },
  {
   "cell_type": "code",
   "execution_count": 52,
   "id": "e6e1460b-69d1-43e6-94b7-f19d262e2b3c",
   "metadata": {},
   "outputs": [
    {
     "data": {
      "text/plain": [
       "np.int64(234009561)"
      ]
     },
     "execution_count": 52,
     "metadata": {},
     "output_type": "execute_result"
    }
   ],
   "source": [
    "eval_df['score'].sum() - e "
   ]
  },
  {
   "cell_type": "code",
   "execution_count": 53,
   "id": "b5ecd27b-70ca-4b91-8a42-32d88c170a3b",
   "metadata": {},
   "outputs": [
    {
     "data": {
      "text/plain": [
       "27"
      ]
     },
     "execution_count": 53,
     "metadata": {},
     "output_type": "execute_result"
    }
   ],
   "source": [
    "found_states = determine_states(eval_df, state)\n",
    "len(determine_states(eval_df, state))"
   ]
  },
  {
   "cell_type": "markdown",
   "id": "5ef52f54-9271-4809-a813-40e34eacb3eb",
   "metadata": {},
   "source": [
    "## Results"
   ]
  },
  {
   "cell_type": "code",
   "execution_count": 59,
   "id": "2e46181d-eaaf-4e91-b272-1471436ff168",
   "metadata": {},
   "outputs": [],
   "source": [
    "state = [['d', 'g', 'h', 't', 'u'],\n",
    " ['a', 'i', 'r', 'c', 's'],\n",
    " ['s', 'n', 'o', 'a', 'i'],\n",
    " ['e', 'r', 'm', 'l', 'n'],\n",
    " ['t', 'w', 'k', 'o', 'd']]"
   ]
  },
  {
   "cell_type": "code",
   "execution_count": 61,
   "id": "617e91e0-f45f-4866-bc1b-982d471a17fb",
   "metadata": {},
   "outputs": [
    {
     "data": {
      "text/plain": [
       "29"
      ]
     },
     "execution_count": 61,
     "metadata": {},
     "output_type": "execute_result"
    }
   ],
   "source": [
    "found_states = determine_states(eval_df, state)\n",
    "len(determine_states(eval_df, state))"
   ]
  },
  {
   "cell_type": "code",
   "execution_count": 63,
   "id": "5baa510c-6a18-40cc-bd61-5625342ff223",
   "metadata": {},
   "outputs": [
    {
     "data": {
      "text/plain": [
       "np.int64(250208980)"
      ]
     },
     "execution_count": 63,
     "metadata": {},
     "output_type": "execute_result"
    }
   ],
   "source": [
    "eval_states(eval_df, determine_states(eval_df, state))"
   ]
  },
  {
   "cell_type": "markdown",
   "id": "a1faa42f-7883-49a0-825f-9b99ceef43ad",
   "metadata": {},
   "source": [
    "## Constraints"
   ]
  },
  {
   "cell_type": "code",
   "execution_count": 64,
   "id": "3e057c1a-182e-493f-bd52-56c1b401266f",
   "metadata": {},
   "outputs": [],
   "source": [
    "usa_graph = {\n",
    "    'washington': ['idaho', 'oregon'],\n",
    "    'oregon': ['washington', 'idaho', 'california', 'nevada'],\n",
    "    'idaho': ['washington', 'oregon', 'montana', 'wyoming', 'utah', 'nevada'],\n",
    "    'montana': ['idaho', 'northdakota', 'southdakota', 'wyoming'],\n",
    "    'northdakota': ['montana', 'minnesota', 'southdakota'],\n",
    "    'minnesota': ['northdakota', 'wisconsin', 'iowa', 'southdakota'],\n",
    "    'wisconsin': ['minnesota', 'iowa', 'illinois', 'michigan'],\n",
    "    'michigan': ['wisconsin', 'illinois', 'indiana', 'ohio'],\n",
    "    'illinois': ['wisconsin', 'indiana', 'kentucky', 'missouri', 'iowa'],\n",
    "    'indiana': ['illinois', 'michigan', 'ohio', 'kentucky'],\n",
    "    'ohio': ['michigan', 'indiana', 'kentucky', 'westvirginia', 'pennsylvania'],\n",
    "    'pennsylvania': ['ohio', 'westvirginia', 'maryland', 'delaware', 'newjersey', 'newyork'],\n",
    "    'newyork': ['pennsylvania', 'newjersey', 'vermont', 'massachusetts', 'connecticut'],\n",
    "    'vermont': ['newyork', 'newhampshire'],\n",
    "    'newhampshire': ['vermont', 'maine'],\n",
    "    'maine': ['newhampshire'],\n",
    "    'massachusetts': ['newyork', 'connecticut', 'rhodeisland', 'newhampshire', 'vermont'],\n",
    "    'connecticut': ['newyork', 'massachusetts', 'rhodeisland'],\n",
    "    'rhodeisland': ['massachusetts', 'connecticut'],\n",
    "    'newjersey': ['pennsylvania', 'delaware', 'newyork'],\n",
    "    'delaware': ['pennsylvania', 'maryland', 'newjersey'],\n",
    "    'maryland': ['delaware', 'pennsylvania', 'westvirginia', 'virginia'],\n",
    "    'westvirginia': ['pennsylvania', 'ohio', 'kentucky', 'virginia'],\n",
    "    'virginia': ['maryland', 'westvirginia', 'kentucky', 'tennessee', 'northcarolina'],\n",
    "    'kentucky': ['ohio', 'indiana', 'illinois', 'missouri', 'tennessee', 'virginia', 'westvirginia'],\n",
    "    'tennessee': ['kentucky', 'virginia', 'northcarolina', 'georgia', 'alabama', 'mississippi', 'arkansas', 'missouri'],\n",
    "    'northcarolina': ['virginia', 'tennessee', 'georgia', 'southcarolina'],\n",
    "    'southcarolina': ['northcarolina', 'georgia'],\n",
    "    'georgia': ['northcarolina', 'southcarolina', 'florida', 'alabama', 'tennessee'],\n",
    "    'florida': ['georgia', 'alabama'],\n",
    "    'alabama': ['mississippi', 'tennessee', 'georgia', 'florida'],\n",
    "    'mississippi': ['arkansas', 'louisiana', 'tennessee', 'alabama'],\n",
    "    'louisiana': ['texas', 'arkansas', 'mississippi'],\n",
    "    'arkansas': ['missouri', 'tennessee', 'mississippi', 'louisiana', 'texas', 'oklahoma'],\n",
    "    'missouri': ['iowa', 'illinois', 'kentucky', 'tennessee', 'arkansas', 'oklahoma', 'kansas', 'nebraska'],\n",
    "    'iowa': ['minnesota', 'wisconsin', 'illinois', 'missouri', 'nebraska', 'southdakota'],\n",
    "    'nebraska': ['southdakota', 'iowa', 'missouri', 'kansas', 'colorado', 'wyoming'],\n",
    "    'kansas': ['nebraska', 'missouri', 'oklahoma', 'colorado'],\n",
    "    'oklahoma': ['kansas', 'missouri', 'arkansas', 'texas', 'newmexico', 'colorado'],\n",
    "    'texas': ['oklahoma', 'arkansas', 'louisiana', 'newmexico'],\n",
    "    'newmexico': ['colorado', 'oklahoma', 'texas', 'arizona', 'utah'],\n",
    "    'colorado': ['wyoming', 'nebraska', 'kansas', 'oklahoma', 'newmexico', 'utah'],\n",
    "    'utah': ['idaho', 'wyoming', 'colorado', 'arizona', 'nevada'],\n",
    "    'nevada': ['idaho', 'utah', 'arizona', 'california'],\n",
    "    'arizona': ['utah', 'newmexico', 'texas', 'california', 'nevada'],\n",
    "    'california': ['oregon', 'nevada', 'arizona']\n",
    "}\n"
   ]
  },
  {
   "cell_type": "code",
   "execution_count": 73,
   "id": "568c685b-449f-4666-ab2a-ddad60373751",
   "metadata": {},
   "outputs": [],
   "source": [
    "class ConstrainedAlteredStatesProblem(AlteredStatesProblem):\n",
    "    def __init__(self, state, data):\n",
    "        super(ConstrainedAlteredStatesProblem, self).__init__(state, data)\n",
    "\n",
    "    def energy(self):\n",
    "      MAX_E = self.TOTAL\n",
    "      if self.state:\n",
    "        f = determine_states(self.data, self.state)\n",
    "\n",
    "        if 'california' in f:\n",
    "          T = 0\n",
    "            \n",
    "        else:\n",
    "          T = eval_states(self.data, f)\n",
    "          if (determine_coast_to_coast(f)):\n",
    "            # print(f)\n",
    "            T = T * 1.10\n",
    "          else:\n",
    "            T = T * 0.60\n",
    "      return (MAX_E - T)\n"
   ]
  },
  {
   "cell_type": "code",
   "execution_count": 74,
   "id": "acc64060-6140-455d-82f3-be7044523a34",
   "metadata": {
    "scrolled": true
   },
   "outputs": [
    {
     "name": "stderr",
     "output_type": "stream",
     "text": [
      " Temperature        Energy    Accept   Improve     Elapsed   Remaining\n",
      "     2.50000  124478084.60     8.20%     0.00%     0:22:43     0:00:00"
     ]
    }
   ],
   "source": [
    "test = create_grid(5)\n",
    "tsp = ConstrainedAlteredStatesProblem(test, eval_df)\n",
    "tsp.copy_strategy = \"deepcopy\"\n",
    "state, e = tsp.anneal()"
   ]
  },
  {
   "cell_type": "code",
   "execution_count": 77,
   "id": "3451b03b-b847-4b2d-90cd-1a827d320779",
   "metadata": {},
   "outputs": [
    {
     "data": {
      "text/plain": [
       "[['d', 'n', 'e', 't', 'e'],\n",
       " ['a', 'w', 'a', 'm', 'c'],\n",
       " ['l', 'r', 's', 'h', 'o'],\n",
       " ['f', 'o', 'k', 'i', 'r'],\n",
       " ['c', 'g', 'n', 'a', 'g']]"
      ]
     },
     "execution_count": 77,
     "metadata": {},
     "output_type": "execute_result"
    }
   ],
   "source": [
    "state"
   ]
  },
  {
   "cell_type": "markdown",
   "id": "84526488-8aff-4f71-8e64-021b01b28b4c",
   "metadata": {},
   "source": [
    "## Results "
   ]
  },
  {
   "cell_type": "code",
   "execution_count": 78,
   "id": "581d62c3-a79e-4001-afd2-6b9d50c18591",
   "metadata": {},
   "outputs": [],
   "source": [
    "constrained_solution = [['s', 'w', 'y', 'e', 'r'],\n",
    " ['t', 'e', 'i', 'o', 's'],\n",
    " ['l', 'd', 'n', 's', 'm'],\n",
    " ['i', 'o', 'a', 'i', 'a'],\n",
    " ['u', 'r', 'g', 'h', 'l']]"
   ]
  },
  {
   "cell_type": "markdown",
   "id": "b9967313-a6d8-4754-bbe7-06cbb4de3307",
   "metadata": {},
   "source": [
    "# Evidence of Success\n",
    "\n",
    "* Evidence of C2C\n",
    "* Evidence of Existance\n",
    "    * Paths with highlights for each state\n",
    "* Evidence of Score\n"
   ]
  },
  {
   "cell_type": "markdown",
   "id": "e6d9e074-de12-497e-90bd-2a1aabba9d26",
   "metadata": {},
   "source": [
    "## Evidence of C2C"
   ]
  },
  {
   "cell_type": "code",
   "execution_count": 80,
   "id": "8c410e50-772b-4347-be21-dfe65d93be75",
   "metadata": {},
   "outputs": [],
   "source": [
    "test = constrained_solution\n",
    "\n",
    "codes = list(map(lambda x: state_codes[x], determine_states(eval_df, test)))"
   ]
  },
  {
   "cell_type": "code",
   "execution_count": 81,
   "id": "1ba0e6aa-cbac-417d-80e4-68e728d4404e",
   "metadata": {},
   "outputs": [
    {
     "data": {
      "text/html": [
       "<iframe\n",
       "    scrolling=\"no\"\n",
       "    width=\"100%\"\n",
       "    height=\"545px\"\n",
       "    src=\"iframe_figures/figure_81.html\"\n",
       "    frameborder=\"0\"\n",
       "    allowfullscreen\n",
       "></iframe>\n"
      ]
     },
     "metadata": {},
     "output_type": "display_data"
    }
   ],
   "source": [
    "import plotly.io as pio\n",
    "pio.renderers.default = 'iframe'\n",
    "\n",
    "fig = px.choropleth(locations=codes, \n",
    "                    locationmode=\"USA-states\",\n",
    "                    color=[1]*len(codes),\n",
    "                    scope=\"usa\",\n",
    "                    title = 'states selected from simulated annealing'\n",
    "                   )\n",
    "fig.show()"
   ]
  },
  {
   "cell_type": "markdown",
   "id": "cae2e0ab-1f91-4ca3-bfc9-dfcb590a91d5",
   "metadata": {},
   "source": [
    "## Evidence of Existence"
   ]
  },
  {
   "cell_type": "code",
   "execution_count": 85,
   "id": "d30a243d-c259-42c3-b920-30480eca80b6",
   "metadata": {
    "scrolled": true
   },
   "outputs": [
    {
     "name": "stdout",
     "output_type": "stream",
     "text": [
      "[[1, 0], [1, 1], [2, 1], [3, 2], [2, 3]]\n"
     ]
    },
    {
     "data": {
      "text/html": [
       "<iframe\n",
       "    scrolling=\"no\"\n",
       "    width=\"100%\"\n",
       "    height=\"545px\"\n",
       "    src=\"iframe_figures/figure_85.html\"\n",
       "    frameborder=\"0\"\n",
       "    allowfullscreen\n",
       "></iframe>\n"
      ]
     },
     "metadata": {},
     "output_type": "display_data"
    },
    {
     "name": "stdout",
     "output_type": "stream",
     "text": [
      "===============\n",
      "[[1, 0], [2, 0], [3, 1], [4, 1], [3, 0], [2, 1], [3, 2]]\n"
     ]
    },
    {
     "data": {
      "text/html": [
       "<iframe\n",
       "    scrolling=\"no\"\n",
       "    width=\"100%\"\n",
       "    height=\"545px\"\n",
       "    src=\"iframe_figures/figure_85.html\"\n",
       "    frameborder=\"0\"\n",
       "    allowfullscreen\n",
       "></iframe>\n"
      ]
     },
     "metadata": {},
     "output_type": "display_data"
    },
    {
     "name": "stdout",
     "output_type": "stream",
     "text": [
      "===============\n",
      "[[2, 2], [1, 1], [0, 1], [0, 2], [1, 3], [0, 4], [0, 3]]\n"
     ]
    },
    {
     "data": {
      "text/html": [
       "<iframe\n",
       "    scrolling=\"no\"\n",
       "    width=\"100%\"\n",
       "    height=\"545px\"\n",
       "    src=\"iframe_figures/figure_85.html\"\n",
       "    frameborder=\"0\"\n",
       "    allowfullscreen\n",
       "></iframe>\n"
      ]
     },
     "metadata": {},
     "output_type": "display_data"
    },
    {
     "name": "stdout",
     "output_type": "stream",
     "text": [
      "===============\n",
      "[[3, 0], [2, 0], [1, 1], [1, 2], [2, 2], [1, 3], [1, 2], [2, 3]]\n"
     ]
    },
    {
     "data": {
      "text/html": [
       "<iframe\n",
       "    scrolling=\"no\"\n",
       "    width=\"100%\"\n",
       "    height=\"545px\"\n",
       "    src=\"iframe_figures/figure_85.html\"\n",
       "    frameborder=\"0\"\n",
       "    allowfullscreen\n",
       "></iframe>\n"
      ]
     },
     "metadata": {},
     "output_type": "display_data"
    },
    {
     "name": "stdout",
     "output_type": "stream",
     "text": [
      "===============\n",
      "[[1, 3], [0, 2], [1, 2], [1, 3]]\n"
     ]
    },
    {
     "data": {
      "text/html": [
       "<iframe\n",
       "    scrolling=\"no\"\n",
       "    width=\"100%\"\n",
       "    height=\"545px\"\n",
       "    src=\"iframe_figures/figure_85.html\"\n",
       "    frameborder=\"0\"\n",
       "    allowfullscreen\n",
       "></iframe>\n"
      ]
     },
     "metadata": {},
     "output_type": "display_data"
    },
    {
     "name": "stdout",
     "output_type": "stream",
     "text": [
      "===============\n",
      "[[4, 2], [3, 2], [3, 1], [4, 1], [4, 2], [3, 3], [3, 2]]\n"
     ]
    },
    {
     "data": {
      "text/html": [
       "<iframe\n",
       "    scrolling=\"no\"\n",
       "    width=\"100%\"\n",
       "    height=\"545px\"\n",
       "    src=\"iframe_figures/figure_85.html\"\n",
       "    frameborder=\"0\"\n",
       "    allowfullscreen\n",
       "></iframe>\n"
      ]
     },
     "metadata": {},
     "output_type": "display_data"
    },
    {
     "name": "stdout",
     "output_type": "stream",
     "text": [
      "===============\n",
      "[[2, 4], [3, 3], [3, 2], [4, 3], [3, 3], [4, 2], [3, 2], [2, 2]]\n"
     ]
    },
    {
     "data": {
      "text/html": [
       "<iframe\n",
       "    scrolling=\"no\"\n",
       "    width=\"100%\"\n",
       "    height=\"545px\"\n",
       "    src=\"iframe_figures/figure_85.html\"\n",
       "    frameborder=\"0\"\n",
       "    allowfullscreen\n",
       "></iframe>\n"
      ]
     },
     "metadata": {},
     "output_type": "display_data"
    },
    {
     "name": "stdout",
     "output_type": "stream",
     "text": [
      "===============\n",
      "[[2, 2], [1, 1], [0, 1], [0, 2], [0, 3], [0, 4], [1, 4], [0, 3], [0, 2]]\n"
     ]
    },
    {
     "data": {
      "text/html": [
       "<iframe\n",
       "    scrolling=\"no\"\n",
       "    width=\"100%\"\n",
       "    height=\"545px\"\n",
       "    src=\"iframe_figures/figure_85.html\"\n",
       "    frameborder=\"0\"\n",
       "    allowfullscreen\n",
       "></iframe>\n"
      ]
     },
     "metadata": {},
     "output_type": "display_data"
    },
    {
     "name": "stdout",
     "output_type": "stream",
     "text": [
      "===============\n",
      "[[2, 0], [3, 0], [4, 1], [4, 2], [3, 3], [2, 2], [3, 3], [3, 2]]\n"
     ]
    },
    {
     "data": {
      "text/html": [
       "<iframe\n",
       "    scrolling=\"no\"\n",
       "    width=\"100%\"\n",
       "    height=\"545px\"\n",
       "    src=\"iframe_figures/figure_85.html\"\n",
       "    frameborder=\"0\"\n",
       "    allowfullscreen\n",
       "></iframe>\n"
      ]
     },
     "metadata": {},
     "output_type": "display_data"
    },
    {
     "name": "stdout",
     "output_type": "stream",
     "text": [
      "===============\n",
      "[[3, 2], [4, 1], [3, 0], [2, 0], [3, 1], [2, 2], [3, 2]]\n"
     ]
    },
    {
     "data": {
      "text/html": [
       "<iframe\n",
       "    scrolling=\"no\"\n",
       "    width=\"100%\"\n",
       "    height=\"545px\"\n",
       "    src=\"iframe_figures/figure_85.html\"\n",
       "    frameborder=\"0\"\n",
       "    allowfullscreen\n",
       "></iframe>\n"
      ]
     },
     "metadata": {},
     "output_type": "display_data"
    },
    {
     "name": "stdout",
     "output_type": "stream",
     "text": [
      "===============\n",
      "[[1, 2], [2, 2], [2, 1], [1, 2], [1, 1], [2, 2], [3, 2]]\n"
     ]
    },
    {
     "data": {
      "text/html": [
       "<iframe\n",
       "    scrolling=\"no\"\n",
       "    width=\"100%\"\n",
       "    height=\"545px\"\n",
       "    src=\"iframe_figures/figure_85.html\"\n",
       "    frameborder=\"0\"\n",
       "    allowfullscreen\n",
       "></iframe>\n"
      ]
     },
     "metadata": {},
     "output_type": "display_data"
    },
    {
     "name": "stdout",
     "output_type": "stream",
     "text": [
      "===============\n",
      "[[2, 4], [3, 3], [2, 3], [2, 2], [3, 1], [4, 0], [4, 1], [3, 0]]\n"
     ]
    },
    {
     "data": {
      "text/html": [
       "<iframe\n",
       "    scrolling=\"no\"\n",
       "    width=\"100%\"\n",
       "    height=\"545px\"\n",
       "    src=\"iframe_figures/figure_85.html\"\n",
       "    frameborder=\"0\"\n",
       "    allowfullscreen\n",
       "></iframe>\n"
      ]
     },
     "metadata": {},
     "output_type": "display_data"
    },
    {
     "name": "stdout",
     "output_type": "stream",
     "text": [
      "===============\n",
      "[[0, 1], [1, 2], [2, 3], [1, 2], [1, 3], [2, 2], [2, 3], [1, 2], [2, 2]]\n"
     ]
    },
    {
     "data": {
      "text/html": [
       "<iframe\n",
       "    scrolling=\"no\"\n",
       "    width=\"100%\"\n",
       "    height=\"545px\"\n",
       "    src=\"iframe_figures/figure_85.html\"\n",
       "    frameborder=\"0\"\n",
       "    allowfullscreen\n",
       "></iframe>\n"
      ]
     },
     "metadata": {},
     "output_type": "display_data"
    },
    {
     "name": "stdout",
     "output_type": "stream",
     "text": [
      "===============\n",
      "[[2, 0], [3, 1], [2, 0], [3, 1], [4, 1], [3, 2], [2, 1], [3, 1]]\n"
     ]
    },
    {
     "data": {
      "text/html": [
       "<iframe\n",
       "    scrolling=\"no\"\n",
       "    width=\"100%\"\n",
       "    height=\"545px\"\n",
       "    src=\"iframe_figures/figure_85.html\"\n",
       "    frameborder=\"0\"\n",
       "    allowfullscreen\n",
       "></iframe>\n"
      ]
     },
     "metadata": {},
     "output_type": "display_data"
    },
    {
     "name": "stdout",
     "output_type": "stream",
     "text": [
      "===============\n",
      "[[3, 4], [4, 4], [3, 4], [2, 3], [3, 4], [2, 4], [3, 4]]\n"
     ]
    },
    {
     "data": {
      "text/html": [
       "<iframe\n",
       "    scrolling=\"no\"\n",
       "    width=\"100%\"\n",
       "    height=\"545px\"\n",
       "    src=\"iframe_figures/figure_85.html\"\n",
       "    frameborder=\"0\"\n",
       "    allowfullscreen\n",
       "></iframe>\n"
      ]
     },
     "metadata": {},
     "output_type": "display_data"
    },
    {
     "name": "stdout",
     "output_type": "stream",
     "text": [
      "===============\n",
      "[[2, 0], [3, 1], [2, 1], [1, 2], [2, 3], [3, 3], [3, 2], [2, 2], [3, 2]]\n"
     ]
    },
    {
     "data": {
      "text/html": [
       "<iframe\n",
       "    scrolling=\"no\"\n",
       "    width=\"100%\"\n",
       "    height=\"545px\"\n",
       "    src=\"iframe_figures/figure_85.html\"\n",
       "    frameborder=\"0\"\n",
       "    allowfullscreen\n",
       "></iframe>\n"
      ]
     },
     "metadata": {},
     "output_type": "display_data"
    },
    {
     "name": "stdout",
     "output_type": "stream",
     "text": [
      "===============\n",
      "[[1, 3], [0, 4], [0, 3], [0, 2], [1, 3], [2, 2]]\n"
     ]
    },
    {
     "data": {
      "text/html": [
       "<iframe\n",
       "    scrolling=\"no\"\n",
       "    width=\"100%\"\n",
       "    height=\"545px\"\n",
       "    src=\"iframe_figures/figure_85.html\"\n",
       "    frameborder=\"0\"\n",
       "    allowfullscreen\n",
       "></iframe>\n"
      ]
     },
     "metadata": {},
     "output_type": "display_data"
    },
    {
     "name": "stdout",
     "output_type": "stream",
     "text": [
      "===============\n",
      "[[4, 0], [3, 1], [3, 2], [4, 3]]\n"
     ]
    },
    {
     "data": {
      "text/html": [
       "<iframe\n",
       "    scrolling=\"no\"\n",
       "    width=\"100%\"\n",
       "    height=\"545px\"\n",
       "    src=\"iframe_figures/figure_85.html\"\n",
       "    frameborder=\"0\"\n",
       "    allowfullscreen\n",
       "></iframe>\n"
      ]
     },
     "metadata": {},
     "output_type": "display_data"
    },
    {
     "name": "stdout",
     "output_type": "stream",
     "text": [
      "===============\n",
      "[[1, 2], [1, 3], [2, 2], [3, 2]]\n"
     ]
    },
    {
     "data": {
      "text/html": [
       "<iframe\n",
       "    scrolling=\"no\"\n",
       "    width=\"100%\"\n",
       "    height=\"545px\"\n",
       "    src=\"iframe_figures/figure_85.html\"\n",
       "    frameborder=\"0\"\n",
       "    allowfullscreen\n",
       "></iframe>\n"
      ]
     },
     "metadata": {},
     "output_type": "display_data"
    },
    {
     "name": "stdout",
     "output_type": "stream",
     "text": [
      "===============\n",
      "[[2, 2], [1, 1], [2, 1], [3, 2], [2, 1], [3, 2]]\n"
     ]
    },
    {
     "data": {
      "text/html": [
       "<iframe\n",
       "    scrolling=\"no\"\n",
       "    width=\"100%\"\n",
       "    height=\"545px\"\n",
       "    src=\"iframe_figures/figure_85.html\"\n",
       "    frameborder=\"0\"\n",
       "    allowfullscreen\n",
       "></iframe>\n"
      ]
     },
     "metadata": {},
     "output_type": "display_data"
    },
    {
     "name": "stdout",
     "output_type": "stream",
     "text": [
      "===============\n",
      "[[3, 2], [4, 1], [3, 1], [3, 2], [2, 2], [2, 3], [3, 2], [2, 3]]\n"
     ]
    },
    {
     "data": {
      "text/html": [
       "<iframe\n",
       "    scrolling=\"no\"\n",
       "    width=\"100%\"\n",
       "    height=\"545px\"\n",
       "    src=\"iframe_figures/figure_85.html\"\n",
       "    frameborder=\"0\"\n",
       "    allowfullscreen\n",
       "></iframe>\n"
      ]
     },
     "metadata": {},
     "output_type": "display_data"
    },
    {
     "name": "stdout",
     "output_type": "stream",
     "text": [
      "===============\n",
      "[[2, 1], [3, 2], [2, 2], [2, 3], [3, 2], [2, 3]]\n"
     ]
    },
    {
     "data": {
      "text/html": [
       "<iframe\n",
       "    scrolling=\"no\"\n",
       "    width=\"100%\"\n",
       "    height=\"545px\"\n",
       "    src=\"iframe_figures/figure_85.html\"\n",
       "    frameborder=\"0\"\n",
       "    allowfullscreen\n",
       "></iframe>\n"
      ]
     },
     "metadata": {},
     "output_type": "display_data"
    },
    {
     "name": "stdout",
     "output_type": "stream",
     "text": [
      "===============\n",
      "[[1, 2], [2, 1], [3, 2], [2, 1], [3, 1]]\n"
     ]
    },
    {
     "data": {
      "text/html": [
       "<iframe\n",
       "    scrolling=\"no\"\n",
       "    width=\"100%\"\n",
       "    height=\"545px\"\n",
       "    src=\"iframe_figures/figure_85.html\"\n",
       "    frameborder=\"0\"\n",
       "    allowfullscreen\n",
       "></iframe>\n"
      ]
     },
     "metadata": {},
     "output_type": "display_data"
    },
    {
     "name": "stdout",
     "output_type": "stream",
     "text": [
      "===============\n",
      "[[0, 1], [1, 1], [0, 0], [1, 0], [2, 0], [3, 0], [4, 1], [4, 2], [3, 3], [2, 2], [3, 3], [3, 2]]\n"
     ]
    },
    {
     "data": {
      "text/html": [
       "<iframe\n",
       "    scrolling=\"no\"\n",
       "    width=\"100%\"\n",
       "    height=\"545px\"\n",
       "    src=\"iframe_figures/figure_85.html\"\n",
       "    frameborder=\"0\"\n",
       "    allowfullscreen\n",
       "></iframe>\n"
      ]
     },
     "metadata": {},
     "output_type": "display_data"
    },
    {
     "name": "stdout",
     "output_type": "stream",
     "text": [
      "===============\n",
      "[[2, 1], [3, 2], [3, 3], [2, 2], [1, 1]]\n"
     ]
    },
    {
     "data": {
      "text/html": [
       "<iframe\n",
       "    scrolling=\"no\"\n",
       "    width=\"100%\"\n",
       "    height=\"545px\"\n",
       "    src=\"iframe_figures/figure_85.html\"\n",
       "    frameborder=\"0\"\n",
       "    allowfullscreen\n",
       "></iframe>\n"
      ]
     },
     "metadata": {},
     "output_type": "display_data"
    },
    {
     "name": "stdout",
     "output_type": "stream",
     "text": [
      "===============\n",
      "[[2, 4], [1, 3], [2, 2], [2, 1], [3, 2], [2, 2], [3, 2]]\n"
     ]
    },
    {
     "data": {
      "text/html": [
       "<iframe\n",
       "    scrolling=\"no\"\n",
       "    width=\"100%\"\n",
       "    height=\"545px\"\n",
       "    src=\"iframe_figures/figure_85.html\"\n",
       "    frameborder=\"0\"\n",
       "    allowfullscreen\n",
       "></iframe>\n"
      ]
     },
     "metadata": {},
     "output_type": "display_data"
    },
    {
     "name": "stdout",
     "output_type": "stream",
     "text": [
      "===============\n",
      "[[3, 4], [4, 4], [3, 4], [2, 3], [2, 2], [3, 2]]\n"
     ]
    },
    {
     "data": {
      "text/html": [
       "<iframe\n",
       "    scrolling=\"no\"\n",
       "    width=\"100%\"\n",
       "    height=\"545px\"\n",
       "    src=\"iframe_figures/figure_85.html\"\n",
       "    frameborder=\"0\"\n",
       "    allowfullscreen\n",
       "></iframe>\n"
      ]
     },
     "metadata": {},
     "output_type": "display_data"
    },
    {
     "name": "stdout",
     "output_type": "stream",
     "text": [
      "===============\n",
      "[[0, 1], [0, 2], [1, 3], [2, 4], [3, 3], [2, 2], [1, 1]]\n"
     ]
    },
    {
     "data": {
      "text/html": [
       "<iframe\n",
       "    scrolling=\"no\"\n",
       "    width=\"100%\"\n",
       "    height=\"545px\"\n",
       "    src=\"iframe_figures/figure_85.html\"\n",
       "    frameborder=\"0\"\n",
       "    allowfullscreen\n",
       "></iframe>\n"
      ]
     },
     "metadata": {},
     "output_type": "display_data"
    },
    {
     "name": "stdout",
     "output_type": "stream",
     "text": [
      "===============\n"
     ]
    }
   ],
   "source": [
    "state_in_solutions = determine_states(eval_df, constrained_solution)\n",
    "for found_state in state_in_solutions:\n",
    "    res = go_through_positions_to_find_path(constrained_solution, found_state)\n",
    "    print(res)\n",
    "    grid = np.zeros([5,5])\n",
    "    for r in res:\n",
    "        grid[r[0],r[1]] = 1 \n",
    "    figHeatmap = go.Figure(\n",
    "                       data=go.Heatmap(\n",
    "                                       z=grid, \n",
    "                                       text=constrained_solution, \n",
    "                                       texttemplate=\"%{text}\", \n",
    "                                       textfont={\"size\":20}\n",
    "                                       )\n",
    "                      )\n",
    "    figHeatmap.update_layout(\n",
    "            title=found_state+ f'<br><sup>{\" -> \".join([f\"{r[0]},{r[1]}\" for r in res])}</sup>',\n",
    "            yaxis=dict(visible=True,autorange='reversed')\n",
    "        )\n",
    "\n",
    "    # img_bytes = figHeatmap.to_image(format=\"png\", width=600, height=350, scale=2)\n",
    "    # Image(img_bytes)\n",
    "    figHeatmap.show()\n",
    "    print('='* 15)\n",
    "    time.sleep(5)"
   ]
  },
  {
   "cell_type": "markdown",
   "id": "5acf1683-8c49-4974-8c8e-60417b55a548",
   "metadata": {},
   "source": [
    "## Evidence of Score"
   ]
  },
  {
   "cell_type": "code",
   "execution_count": 86,
   "id": "935f39fe-ae9b-44af-b6a9-ae9372fa854d",
   "metadata": {},
   "outputs": [
    {
     "data": {
      "text/html": [
       "<div>\n",
       "<style scoped>\n",
       "    .dataframe tbody tr th:only-of-type {\n",
       "        vertical-align: middle;\n",
       "    }\n",
       "\n",
       "    .dataframe tbody tr th {\n",
       "        vertical-align: top;\n",
       "    }\n",
       "\n",
       "    .dataframe thead th {\n",
       "        text-align: right;\n",
       "    }\n",
       "</style>\n",
       "<table border=\"1\" class=\"dataframe\">\n",
       "  <thead>\n",
       "    <tr style=\"text-align: right;\">\n",
       "      <th></th>\n",
       "      <th>state</th>\n",
       "      <th>score</th>\n",
       "    </tr>\n",
       "  </thead>\n",
       "  <tbody>\n",
       "    <tr>\n",
       "      <th>1</th>\n",
       "      <td>texas</td>\n",
       "      <td>29145505</td>\n",
       "    </tr>\n",
       "    <tr>\n",
       "      <th>2</th>\n",
       "      <td>florida</td>\n",
       "      <td>21538187</td>\n",
       "    </tr>\n",
       "    <tr>\n",
       "      <th>3</th>\n",
       "      <td>newyork</td>\n",
       "      <td>20201249</td>\n",
       "    </tr>\n",
       "    <tr>\n",
       "      <th>5</th>\n",
       "      <td>illinois</td>\n",
       "      <td>12812508</td>\n",
       "    </tr>\n",
       "    <tr>\n",
       "      <th>6</th>\n",
       "      <td>ohio</td>\n",
       "      <td>11799448</td>\n",
       "    </tr>\n",
       "    <tr>\n",
       "      <th>7</th>\n",
       "      <td>georgia</td>\n",
       "      <td>10711908</td>\n",
       "    </tr>\n",
       "    <tr>\n",
       "      <th>9</th>\n",
       "      <td>michigan</td>\n",
       "      <td>10077331</td>\n",
       "    </tr>\n",
       "    <tr>\n",
       "      <th>10</th>\n",
       "      <td>newjersey</td>\n",
       "      <td>9288994</td>\n",
       "    </tr>\n",
       "    <tr>\n",
       "      <th>11</th>\n",
       "      <td>virginia</td>\n",
       "      <td>8631393</td>\n",
       "    </tr>\n",
       "    <tr>\n",
       "      <th>13</th>\n",
       "      <td>arizona</td>\n",
       "      <td>7151502</td>\n",
       "    </tr>\n",
       "    <tr>\n",
       "      <th>16</th>\n",
       "      <td>indiana</td>\n",
       "      <td>6785528</td>\n",
       "    </tr>\n",
       "    <tr>\n",
       "      <th>18</th>\n",
       "      <td>missouri</td>\n",
       "      <td>6154913</td>\n",
       "    </tr>\n",
       "    <tr>\n",
       "      <th>19</th>\n",
       "      <td>wisconsin</td>\n",
       "      <td>5893718</td>\n",
       "    </tr>\n",
       "    <tr>\n",
       "      <th>20</th>\n",
       "      <td>colorado</td>\n",
       "      <td>5773714</td>\n",
       "    </tr>\n",
       "    <tr>\n",
       "      <th>23</th>\n",
       "      <td>alabama</td>\n",
       "      <td>5024279</td>\n",
       "    </tr>\n",
       "    <tr>\n",
       "      <th>24</th>\n",
       "      <td>louisiana</td>\n",
       "      <td>4657757</td>\n",
       "    </tr>\n",
       "    <tr>\n",
       "      <th>26</th>\n",
       "      <td>oregon</td>\n",
       "      <td>4237256</td>\n",
       "    </tr>\n",
       "    <tr>\n",
       "      <th>29</th>\n",
       "      <td>utah</td>\n",
       "      <td>3271616</td>\n",
       "    </tr>\n",
       "    <tr>\n",
       "      <th>30</th>\n",
       "      <td>iowa</td>\n",
       "      <td>3190369</td>\n",
       "    </tr>\n",
       "    <tr>\n",
       "      <th>31</th>\n",
       "      <td>nevada</td>\n",
       "      <td>3104614</td>\n",
       "    </tr>\n",
       "    <tr>\n",
       "      <th>32</th>\n",
       "      <td>arkansas</td>\n",
       "      <td>3011524</td>\n",
       "    </tr>\n",
       "    <tr>\n",
       "      <th>34</th>\n",
       "      <td>kansas</td>\n",
       "      <td>2937880</td>\n",
       "    </tr>\n",
       "    <tr>\n",
       "      <th>37</th>\n",
       "      <td>idaho</td>\n",
       "      <td>1839106</td>\n",
       "    </tr>\n",
       "    <tr>\n",
       "      <th>38</th>\n",
       "      <td>westvirginia</td>\n",
       "      <td>1793716</td>\n",
       "    </tr>\n",
       "    <tr>\n",
       "      <th>41</th>\n",
       "      <td>maine</td>\n",
       "      <td>1362359</td>\n",
       "    </tr>\n",
       "    <tr>\n",
       "      <th>43</th>\n",
       "      <td>montana</td>\n",
       "      <td>1084225</td>\n",
       "    </tr>\n",
       "    <tr>\n",
       "      <th>47</th>\n",
       "      <td>alaska</td>\n",
       "      <td>733391</td>\n",
       "    </tr>\n",
       "    <tr>\n",
       "      <th>50</th>\n",
       "      <td>wyoming</td>\n",
       "      <td>576851</td>\n",
       "    </tr>\n",
       "  </tbody>\n",
       "</table>\n",
       "</div>"
      ],
      "text/plain": [
       "           state     score\n",
       "1          texas  29145505\n",
       "2        florida  21538187\n",
       "3        newyork  20201249\n",
       "5       illinois  12812508\n",
       "6           ohio  11799448\n",
       "7        georgia  10711908\n",
       "9       michigan  10077331\n",
       "10     newjersey   9288994\n",
       "11      virginia   8631393\n",
       "13       arizona   7151502\n",
       "16       indiana   6785528\n",
       "18      missouri   6154913\n",
       "19     wisconsin   5893718\n",
       "20      colorado   5773714\n",
       "23       alabama   5024279\n",
       "24     louisiana   4657757\n",
       "26        oregon   4237256\n",
       "29          utah   3271616\n",
       "30          iowa   3190369\n",
       "31        nevada   3104614\n",
       "32      arkansas   3011524\n",
       "34        kansas   2937880\n",
       "37         idaho   1839106\n",
       "38  westvirginia   1793716\n",
       "41         maine   1362359\n",
       "43       montana   1084225\n",
       "47        alaska    733391\n",
       "50       wyoming    576851"
      ]
     },
     "execution_count": 86,
     "metadata": {},
     "output_type": "execute_result"
    }
   ],
   "source": [
    "eval_df.loc[eval_df['state'].isin(state_in_solutions)]"
   ]
  },
  {
   "cell_type": "code",
   "execution_count": 87,
   "id": "ba568850-c6e6-4c9d-b6ab-3f04ff6156b4",
   "metadata": {},
   "outputs": [
    {
     "data": {
      "text/plain": [
       "np.int64(202790841)"
      ]
     },
     "execution_count": 87,
     "metadata": {},
     "output_type": "execute_result"
    }
   ],
   "source": [
    "eval_df.loc[eval_df['state'].isin(state_in_solutions)]['score'].sum()"
   ]
  },
  {
   "cell_type": "markdown",
   "id": "b1132c12-d34a-4db6-b68d-a5564392ec69",
   "metadata": {},
   "source": [
    "# Submission"
   ]
  },
  {
   "cell_type": "code",
   "execution_count": 88,
   "id": "716974bd-2749-483b-b44e-16ec56d822aa",
   "metadata": {},
   "outputs": [],
   "source": [
    "example_grid = [\n",
    "    ['t','h','o'],\n",
    "    ['a','i','n'],\n",
    "    ['e','s','l'],\n",
    "]"
   ]
  },
  {
   "cell_type": "code",
   "execution_count": 89,
   "id": "9eb6ce7f-e26d-4712-a50a-16641887dadf",
   "metadata": {},
   "outputs": [
    {
     "data": {
      "text/plain": [
       "'thoainesl'"
      ]
     },
     "execution_count": 89,
     "metadata": {},
     "output_type": "execute_result"
    }
   ],
   "source": [
    "''.join([''.join(i) for i in example_grid])"
   ]
  },
  {
   "cell_type": "code",
   "execution_count": 90,
   "id": "c2ea3a07-6185-48b1-aace-bceea90cfbb1",
   "metadata": {},
   "outputs": [
    {
     "data": {
      "text/plain": [
       "'swyerteiosldnsmioaiaurghl'"
      ]
     },
     "execution_count": 90,
     "metadata": {},
     "output_type": "execute_result"
    }
   ],
   "source": [
    "''.join([''.join(i) for i in test])"
   ]
  },
  {
   "cell_type": "code",
   "execution_count": null,
   "id": "a1794121-ffa8-495b-8f19-858d426ddb89",
   "metadata": {},
   "outputs": [],
   "source": []
  }
 ],
 "metadata": {
  "kernelspec": {
   "display_name": "Python 3 (ipykernel)",
   "language": "python",
   "name": "python3"
  },
  "language_info": {
   "codemirror_mode": {
    "name": "ipython",
    "version": 3
   },
   "file_extension": ".py",
   "mimetype": "text/x-python",
   "name": "python",
   "nbconvert_exporter": "python",
   "pygments_lexer": "ipython3",
   "version": "3.10.0"
  }
 },
 "nbformat": 4,
 "nbformat_minor": 5
}
